{
 "cells": [
  {
   "cell_type": "markdown",
   "metadata": {},
   "source": [
    "A practical introduction to Pandas\n",
    "==================="
   ]
  },
  {
   "cell_type": "markdown",
   "metadata": {},
   "source": [
    "We have been asked to *analyze an otp dataset*, without much more information. This kind of scenario is more common than you might imagine!\n",
    "\n",
    "## 1) Quickly examine the files in ~/Data/us_dot/otp. What do they contain, in both technical and functional terms? (Use any tool you want)"
   ]
  },
  {
   "cell_type": "code",
   "execution_count": 1,
   "metadata": {
    "collapsed": true
   },
   "outputs": [],
   "source": [
    "path_to_zips = '/home/dsc/Data/us_dot/otp/'"
   ]
  },
  {
   "cell_type": "markdown",
   "metadata": {},
   "source": [
    "For this example, we are going to begin using the shell from within this notebook, with the ! notation:\n",
    "\n",
    "A ! sign before a line tells the notebook to send that line straight away to the underlying OS. \n",
    "\n",
    "\\* Note that we can substitute python variables into the shell command. We do that by surrounding the name of the variable with curly braces ({}). That's what we are going to do with the `path_to_files` variable"
   ]
  },
  {
   "cell_type": "markdown",
   "metadata": {},
   "source": [
    "### Check what the files contain"
   ]
  },
  {
   "cell_type": "code",
   "execution_count": 2,
   "metadata": {
    "collapsed": false
   },
   "outputs": [
    {
     "name": "stdout",
     "output_type": "stream",
     "text": [
      "On_Time_On_Time_Performance_2015_1.zip\tOn_Time_On_Time_Performance_2015_5.zip\r\n",
      "On_Time_On_Time_Performance_2015_2.zip\tOn_Time_On_Time_Performance_2015_6.zip\r\n",
      "On_Time_On_Time_Performance_2015_3.zip\tOn_Time_On_Time_Performance_2015_7.zip\r\n",
      "On_Time_On_Time_Performance_2015_4.zip\tOn_Time_On_Time_Performance_2015_8.zip\r\n"
     ]
    }
   ],
   "source": [
    "# ls the folder\n",
    "! ls {path_to_zips}"
   ]
  },
  {
   "cell_type": "code",
   "execution_count": 3,
   "metadata": {
    "collapsed": false
   },
   "outputs": [
    {
     "name": "stdout",
     "output_type": "stream",
     "text": [
      "Archive:  /home/dsc/Data/us_dot/otp/On_Time_On_Time_Performance_2015_1.zip\r\n",
      " Length   Method    Size  Cmpr    Date    Time   CRC-32   Name\r\n",
      "--------  ------  ------- ---- ---------- ----- --------  ----\r\n",
      "211633432  Defl:N 23058756  89% 04-16-2015 20:02 731a9a16  On_Time_On_Time_Performance_2015_1.csv\r\n",
      "   12054  Defl:N     2208  82% 04-16-2015 20:02 dd78b2d3  readme.html\r\n",
      "--------          -------  ---                            -------\r\n",
      "211645486         23060964  89%                            2 files\r\n"
     ]
    }
   ],
   "source": [
    "# check the contents of one of the files with a shell command\n",
    "# Alternativas:\n",
    "# ! zcat {path_to_zips}On_Time_On_Time_Performance_2015_1.zip | head -n 3\n",
    "# ! zipinfo {path_to_zips}On_Time_On_Time_Performance_2015_1.zip\n",
    "\n",
    "! unzip -v {path_to_zips}On_Time_On_Time_Performance_2015_1.zip\n"
   ]
  },
  {
   "cell_type": "markdown",
   "metadata": {},
   "source": [
    "Oh, it has a readme! Always good to read it."
   ]
  },
  {
   "cell_type": "markdown",
   "metadata": {},
   "source": [
    "### Unzip the readme to the current directory"
   ]
  },
  {
   "cell_type": "code",
   "execution_count": 4,
   "metadata": {
    "collapsed": false,
    "scrolled": true
   },
   "outputs": [
    {
     "name": "stdout",
     "output_type": "stream",
     "text": [
      "Archive:  /home/dsc/Data/us_dot/otp/On_Time_On_Time_Performance_2015_1.zip\r\n",
      "  inflating: readme.html             \r\n"
     ]
    }
   ],
   "source": [
    "# use the shell #Pregunta: ¿Qué pasa cuando ya existe y te pregunta sobreescribir? Poner unzip -o\n",
    "! unzip -o {path_to_zips}On_Time_On_Time_Performance_2015_1.zip readme.html"
   ]
  },
  {
   "cell_type": "markdown",
   "metadata": {},
   "source": [
    "The readme file is html. Luckily, we are working in an html environment. \n",
    "\n",
    "### Display the contents of `readme.html` within the notebook\n",
    "(Hint: check out [IPython.display.IFrame](https://ipython.org/ipython-doc/3/api/generated/IPython.display.html))"
   ]
  },
  {
   "cell_type": "code",
   "execution_count": 5,
   "metadata": {
    "collapsed": false,
    "scrolled": false
   },
   "outputs": [
    {
     "data": {
      "text/html": [
       "\n",
       "        <iframe\n",
       "            width=\"800\"\n",
       "            height=\"600\"\n",
       "            src=\"readme.html\"\n",
       "            frameborder=\"0\"\n",
       "            allowfullscreen\n",
       "        ></iframe>\n",
       "        "
      ],
      "text/plain": [
       "<IPython.lib.display.IFrame at 0x7fad6c0e7e10>"
      ]
     },
     "execution_count": 5,
     "metadata": {},
     "output_type": "execute_result"
    }
   ],
   "source": [
    "from IPython.display import IFrame, HTML\n",
    "\n",
    "IFrame('readme.html', 800, 600)\n"
   ]
  },
  {
   "cell_type": "code",
   "execution_count": 6,
   "metadata": {
    "collapsed": false,
    "scrolled": true
   },
   "outputs": [
    {
     "data": {
      "text/html": [
       "<HTML>\n",
       "<HEAD>\n",
       "\t<TITLE> readme.html </TITLE>\n",
       "</HEAD>\n",
       "<BODY>\n",
       "\t<TABLE><TR><TD COLSPAN=2><H4>BACKGROUND</H4></TD></TR>\n",
       "\t<TR><TD COLSPAN=2>The data contained in the compressed file has been extracted from the \n",
       "\tOn-Time Performance data table of the \"On-Time\" database from the TranStats data library. \n",
       "\tThe time period is indicated in the name of the compressed file; \n",
       "\tfor example, XXX_XXXXX_2001_1 contains data of the first month of the year 2001. </TD></TR>\n",
       "\t<TR><TD COLSPAN=2>&nbsp;</TD></TR>\n",
       "\t<TR><TD COLSPAN=2><H4>RECORD LAYOUT</H4></TD></TR>\n",
       "\t<TR><TD COLSPAN=2>Below are fields in the order that they appear on the records:</TD></TR>\n",
       "\t<TR><TD>Year</TD><TD>Year</TD></TR>\n",
       "\t<TR><TD>Quarter</TD><TD>Quarter (1-4)</TD></TR>\n",
       "\t<TR><TD>Month</TD><TD>Month</TD></TR>\n",
       "\t<TR><TD>DayofMonth</TD><TD>Day of Month</TD></TR>\n",
       "\t<TR><TD>DayOfWeek</TD><TD>Day of Week</TD></TR>\n",
       "\t<TR><TD>FlightDate</TD><TD>Flight Date (yyyymmdd)</TD></TR>\n",
       "\t<TR><TD>UniqueCarrier</TD><TD>Unique Carrier Code. When the same code has been used by multiple carriers, a numeric suffix is used for earlier users, for example, PA, PA(1), PA(2). Use this field for analysis across a range of years.</TD></TR>\n",
       "\t<TR><TD>AirlineID</TD><TD>An identification number assigned by US DOT to identify a unique airline (carrier). A unique airline (carrier) is defined as one holding and reporting under the same DOT certificate regardless of its Code, Name, or holding company/corporation.</TD></TR>\n",
       "\t<TR><TD>Carrier</TD><TD>Code assigned by IATA and commonly used to identify a carrier. As the same code may have been assigned to different carriers over time, the code is not always unique. For analysis, use the Unique Carrier Code.</TD></TR>\n",
       "\t<TR><TD>TailNum</TD><TD>Tail Number</TD></TR>\n",
       "\t<TR><TD>FlightNum</TD><TD>Flight Number</TD></TR>\n",
       "\t<TR><TD>OriginAirportID</TD><TD>Origin Airport, Airport ID. An identification number assigned by US DOT to identify a unique airport.  Use this field for airport analysis across a range of years because an airport can change its airport code and airport codes can be reused.</TD></TR>\n",
       "\t<TR><TD>OriginAirportSeqID</TD><TD>Origin Airport, Airport Sequence ID. An identification number assigned by US DOT to identify a unique airport at a given point of time.  Airport attributes, such as airport name or coordinates, may change over time.</TD></TR>\n",
       "\t<TR><TD>OriginCityMarketID</TD><TD>Origin Airport, City Market ID. City Market ID is an identification number assigned by US DOT to identify a city market.  Use this field to consolidate airports serving the same city market.</TD></TR>\n",
       "\t<TR><TD>Origin</TD><TD>Origin Airport</TD></TR>\n",
       "\t<TR><TD>OriginCityName</TD><TD>Origin Airport, City Name</TD></TR>\n",
       "\t<TR><TD>OriginState</TD><TD>Origin Airport, State Code</TD></TR>\n",
       "\t<TR><TD>OriginStateFips</TD><TD>Origin Airport, State Fips</TD></TR>\n",
       "\t<TR><TD>OriginStateName</TD><TD>Origin Airport, State Name</TD></TR>\n",
       "\t<TR><TD>OriginWac</TD><TD>Origin Airport, World Area Code</TD></TR>\n",
       "\t<TR><TD>DestAirportID</TD><TD>Destination Airport, Airport ID. An identification number assigned by US DOT to identify a unique airport.  Use this field for airport analysis across a range of years because an airport can change its airport code and airport codes can be reused.</TD></TR>\n",
       "\t<TR><TD>DestAirportSeqID</TD><TD>Destination Airport, Airport Sequence ID. An identification number assigned by US DOT to identify a unique airport at a given point of time.  Airport attributes, such as airport name or coordinates, may change over time.</TD></TR>\n",
       "\t<TR><TD>DestCityMarketID</TD><TD>Destination Airport, City Market ID. City Market ID is an identification number assigned by US DOT to identify a city market.  Use this field to consolidate airports serving the same city market.</TD></TR>\n",
       "\t<TR><TD>Dest</TD><TD>Destination Airport</TD></TR>\n",
       "\t<TR><TD>DestCityName</TD><TD>Destination Airport, City Name</TD></TR>\n",
       "\t<TR><TD>DestState</TD><TD>Destination Airport, State Code</TD></TR>\n",
       "\t<TR><TD>DestStateFips</TD><TD>Destination Airport, State Fips</TD></TR>\n",
       "\t<TR><TD>DestStateName</TD><TD>Destination Airport, State Name</TD></TR>\n",
       "\t<TR><TD>DestWac</TD><TD>Destination Airport, World Area Code</TD></TR>\n",
       "\t<TR><TD>CRSDepTime</TD><TD>CRS Departure Time (local time: hhmm)</TD></TR>\n",
       "\t<TR><TD>DepTime</TD><TD>Actual Departure Time (local time: hhmm)</TD></TR>\n",
       "\t<TR><TD>DepDelay</TD><TD>Difference in minutes between scheduled and actual departure time. Early departures show negative numbers.</TD></TR>\n",
       "\t<TR><TD>DepDelayMinutes</TD><TD>Difference in minutes between scheduled and actual departure time. Early departures set to 0.</TD></TR>\n",
       "\t<TR><TD>DepDel15</TD><TD>Departure Delay Indicator, 15 Minutes or More (1=Yes)</TD></TR>\n",
       "\t<TR><TD>DepartureDelayGroups</TD><TD>Departure Delay intervals, every (15 minutes from <-15 to >180)</TD></TR>\n",
       "\t<TR><TD>DepTimeBlk</TD><TD>CRS Departure Time Block, Hourly Intervals</TD></TR>\n",
       "\t<TR><TD>TaxiOut</TD><TD>Taxi Out Time, in Minutes</TD></TR>\n",
       "\t<TR><TD>WheelsOff</TD><TD>Wheels Off Time (local time: hhmm)</TD></TR>\n",
       "\t<TR><TD>WheelsOn</TD><TD>Wheels On Time (local time: hhmm)</TD></TR>\n",
       "\t<TR><TD>TaxiIn</TD><TD>Taxi In Time, in Minutes</TD></TR>\n",
       "\t<TR><TD>CRSArrTime</TD><TD>CRS Arrival Time (local time: hhmm)</TD></TR>\n",
       "\t<TR><TD>ArrTime</TD><TD>Actual Arrival Time (local time: hhmm)</TD></TR>\n",
       "\t<TR><TD>ArrDelay</TD><TD>Difference in minutes between scheduled and actual arrival time. Early arrivals show negative numbers.</TD></TR>\n",
       "\t<TR><TD>ArrDelayMinutes</TD><TD>Difference in minutes between scheduled and actual arrival time. Early arrivals set to 0.</TD></TR>\n",
       "\t<TR><TD>ArrDel15</TD><TD>Arrival Delay Indicator, 15 Minutes or More (1=Yes)</TD></TR>\n",
       "\t<TR><TD>ArrivalDelayGroups</TD><TD>Arrival Delay intervals, every (15-minutes from <-15 to >180)</TD></TR>\n",
       "\t<TR><TD>ArrTimeBlk</TD><TD>CRS Arrival Time Block, Hourly Intervals</TD></TR>\n",
       "\t<TR><TD>Cancelled</TD><TD>Cancelled Flight Indicator (1=Yes)</TD></TR>\n",
       "\t<TR><TD>CancellationCode</TD><TD>Specifies The Reason For Cancellation</TD></TR>\n",
       "\t<TR><TD>Diverted</TD><TD>Diverted Flight Indicator (1=Yes)</TD></TR>\n",
       "\t<TR><TD>CRSElapsedTime</TD><TD>CRS Elapsed Time of Flight, in Minutes</TD></TR>\n",
       "\t<TR><TD>ActualElapsedTime</TD><TD>Elapsed Time of Flight, in Minutes</TD></TR>\n",
       "\t<TR><TD>AirTime</TD><TD>Flight Time, in Minutes</TD></TR>\n",
       "\t<TR><TD>Flights</TD><TD>Number of Flights</TD></TR>\n",
       "\t<TR><TD>Distance</TD><TD>Distance between airports (miles)</TD></TR>\n",
       "\t<TR><TD>DistanceGroup</TD><TD>Distance Intervals, every 250 Miles, for Flight Segment</TD></TR>\n",
       "\t<TR><TD>CarrierDelay</TD><TD>Carrier Delay, in Minutes</TD></TR>\n",
       "\t<TR><TD>WeatherDelay</TD><TD>Weather Delay, in Minutes</TD></TR>\n",
       "\t<TR><TD>NASDelay</TD><TD>National Air System Delay, in Minutes</TD></TR>\n",
       "\t<TR><TD>SecurityDelay</TD><TD>Security Delay, in Minutes</TD></TR>\n",
       "\t<TR><TD>LateAircraftDelay</TD><TD>Late Aircraft Delay, in Minutes</TD></TR>\n",
       "\t<TR><TD>FirstDepTime</TD><TD>First Gate Departure Time at Origin Airport</TD></TR>\n",
       "\t<TR><TD>TotalAddGTime</TD><TD>Total Ground Time Away from Gate for Gate Return or Cancelled Flight</TD></TR>\n",
       "\t<TR><TD>LongestAddGTime</TD><TD>Longest Time Away from Gate for Gate Return or Cancelled Flight</TD></TR>\n",
       "\t<TR><TD>DivAirportLandings</TD><TD>Number of Diverted Airport Landings</TD></TR>\n",
       "\t<TR><TD>DivReachedDest</TD><TD>Diverted Flight Reaching Scheduled Destination Indicator (1=Yes)</TD></TR>\n",
       "\t<TR><TD>DivActualElapsedTime</TD><TD>Elapsed Time of Diverted Flight Reaching Scheduled Destination, in Minutes.  The ActualElapsedTime column remains NULL for all diverted flights.</TD></TR>\n",
       "\t<TR><TD>DivArrDelay</TD><TD>Difference in minutes between scheduled and actual arrival time for a diverted flight reaching scheduled destination.  The ArrDelay column remains NULL for all diverted flights.</TD></TR>\n",
       "\t<TR><TD>DivDistance</TD><TD>Distance between scheduled destination and final diverted airport (miles).  Value will be 0 for diverted flight reaching scheduled destination.</TD></TR>\n",
       "\t<TR><TD>Div1Airport</TD><TD>Diverted Airport Code1</TD></TR>\n",
       "\t<TR><TD>Div1AirportID</TD><TD>Airport ID of Diverted Airport 1. Airport ID is a Unique Key for an Airport</TD></TR>\n",
       "\t<TR><TD>Div1AirportSeqID</TD><TD>Airport Sequence ID of Diverted Airport 1. Unique Key for Time Specific Information for an Airport</TD></TR>\n",
       "\t<TR><TD>Div1WheelsOn</TD><TD>Wheels On Time (local time: hhmm) at Diverted Airport Code1</TD></TR>\n",
       "\t<TR><TD>Div1TotalGTime</TD><TD>Total Ground Time Away from Gate at Diverted Airport Code1</TD></TR>\n",
       "\t<TR><TD>Div1LongestGTime</TD><TD>Longest Ground Time Away from Gate at Diverted Airport Code1</TD></TR>\n",
       "\t<TR><TD>Div1WheelsOff</TD><TD>Wheels Off Time (local time: hhmm) at Diverted Airport Code1</TD></TR>\n",
       "\t<TR><TD>Div1TailNum</TD><TD>Aircraft Tail Number for Diverted Airport Code1</TD></TR>\n",
       "\t<TR><TD>Div2Airport</TD><TD>Diverted Airport Code2</TD></TR>\n",
       "\t<TR><TD>Div2AirportID</TD><TD>Airport ID of Diverted Airport 2. Airport ID is a Unique Key for an Airport</TD></TR>\n",
       "\t<TR><TD>Div2AirportSeqID</TD><TD>Airport Sequence ID of Diverted Airport 2. Unique Key for Time Specific Information for an Airport</TD></TR>\n",
       "\t<TR><TD>Div2WheelsOn</TD><TD>Wheels On Time (local time: hhmm) at Diverted Airport Code2</TD></TR>\n",
       "\t<TR><TD>Div2TotalGTime</TD><TD>Total Ground Time Away from Gate at Diverted Airport Code2</TD></TR>\n",
       "\t<TR><TD>Div2LongestGTime</TD><TD>Longest Ground Time Away from Gate at Diverted Airport Code2</TD></TR>\n",
       "\t<TR><TD>Div2WheelsOff</TD><TD>Wheels Off Time (local time: hhmm) at Diverted Airport Code2</TD></TR>\n",
       "\t<TR><TD>Div2TailNum</TD><TD>Aircraft Tail Number for Diverted Airport Code2</TD></TR>\n",
       "\t<TR><TD>Div3Airport</TD><TD>Diverted Airport Code3</TD></TR>\n",
       "\t<TR><TD>Div3AirportID</TD><TD>Airport ID of Diverted Airport 3. Airport ID is a Unique Key for an Airport</TD></TR>\n",
       "\t<TR><TD>Div3AirportSeqID</TD><TD>Airport Sequence ID of Diverted Airport 3. Unique Key for Time Specific Information for an Airport</TD></TR>\n",
       "\t<TR><TD>Div3WheelsOn</TD><TD>Wheels On Time (local time: hhmm) at Diverted Airport Code3</TD></TR>\n",
       "\t<TR><TD>Div3TotalGTime</TD><TD>Total Ground Time Away from Gate at Diverted Airport Code3</TD></TR>\n",
       "\t<TR><TD>Div3LongestGTime</TD><TD>Longest Ground Time Away from Gate at Diverted Airport Code3</TD></TR>\n",
       "\t<TR><TD>Div3WheelsOff</TD><TD>Wheels Off Time (local time: hhmm) at Diverted Airport Code3</TD></TR>\n",
       "\t<TR><TD>Div3TailNum</TD><TD>Aircraft Tail Number for Diverted Airport Code3</TD></TR>\n",
       "\t<TR><TD>Div4Airport</TD><TD>Diverted Airport Code4</TD></TR>\n",
       "\t<TR><TD>Div4AirportID</TD><TD>Airport ID of Diverted Airport 4. Airport ID is a Unique Key for an Airport</TD></TR>\n",
       "\t<TR><TD>Div4AirportSeqID</TD><TD>Airport Sequence ID of Diverted Airport 4. Unique Key for Time Specific Information for an Airport</TD></TR>\n",
       "\t<TR><TD>Div4WheelsOn</TD><TD>Wheels On Time (local time: hhmm) at Diverted Airport Code4</TD></TR>\n",
       "\t<TR><TD>Div4TotalGTime</TD><TD>Total Ground Time Away from Gate at Diverted Airport Code4</TD></TR>\n",
       "\t<TR><TD>Div4LongestGTime</TD><TD>Longest Ground Time Away from Gate at Diverted Airport Code4</TD></TR>\n",
       "\t<TR><TD>Div4WheelsOff</TD><TD>Wheels Off Time (local time: hhmm) at Diverted Airport Code4</TD></TR>\n",
       "\t<TR><TD>Div4TailNum</TD><TD>Aircraft Tail Number for Diverted Airport Code4</TD></TR>\n",
       "\t<TR><TD>Div5Airport</TD><TD>Diverted Airport Code5</TD></TR>\n",
       "\t<TR><TD>Div5AirportID</TD><TD>Airport ID of Diverted Airport 5. Airport ID is a Unique Key for an Airport</TD></TR>\n",
       "\t<TR><TD>Div5AirportSeqID</TD><TD>Airport Sequence ID of Diverted Airport 5. Unique Key for Time Specific Information for an Airport</TD></TR>\n",
       "\t<TR><TD>Div5WheelsOn</TD><TD>Wheels On Time (local time: hhmm) at Diverted Airport Code5</TD></TR>\n",
       "\t<TR><TD>Div5TotalGTime</TD><TD>Total Ground Time Away from Gate at Diverted Airport Code5</TD></TR>\n",
       "\t<TR><TD>Div5LongestGTime</TD><TD>Longest Ground Time Away from Gate at Diverted Airport Code5</TD></TR>\n",
       "\t<TR><TD>Div5WheelsOff</TD><TD>Wheels Off Time (local time: hhmm) at Diverted Airport Code5</TD></TR>\n",
       "\t<TR><TD>Div5TailNum</TD><TD>Aircraft Tail Number for Diverted Airport Code5</TD></TR>\n",
       "\t</TABLE>\n",
       "</BODY>\n",
       "</HTML>\n"
      ],
      "text/plain": [
       "<IPython.core.display.HTML object>"
      ]
     },
     "execution_count": 6,
     "metadata": {},
     "output_type": "execute_result"
    }
   ],
   "source": [
    "HTML('readme.html')"
   ]
  },
  {
   "cell_type": "code",
   "execution_count": 7,
   "metadata": {
    "collapsed": false
   },
   "outputs": [],
   "source": [
    "#IFrame('http://www.elpais.es', 800, 600)"
   ]
  },
  {
   "cell_type": "markdown",
   "metadata": {},
   "source": [
    "That's some very good documentation!\n",
    "\n",
    "### Summary: \n",
    "\n",
    "The files within the zip are \" quoted csv's. They contain information on timeliness of departures in the US, at the departure level."
   ]
  },
  {
   "cell_type": "code",
   "execution_count": 8,
   "metadata": {
    "collapsed": false,
    "scrolled": true
   },
   "outputs": [
    {
     "name": "stdout",
     "output_type": "stream",
     "text": [
      "\"Year\",\"Quarter\",\"Month\",\"DayofMonth\",\"DayOfWeek\",\"FlightDate\",\"UniqueCarrier\",\"AirlineID\",\"Carrier\",\"TailNum\",\"FlightNum\",\"OriginAirportID\",\"OriginAirportSeqID\",\"OriginCityMarketID\",\"Origin\",\"OriginCityName\",\"OriginState\",\"OriginStateFips\",\"OriginStateName\",\"OriginWac\",\"DestAirportID\",\"DestAirportSeqID\",\"DestCityMarketID\",\"Dest\",\"DestCityName\",\"DestState\",\"DestStateFips\",\"DestStateName\",\"DestWac\",\"CRSDepTime\",\"DepTime\",\"DepDelay\",\"DepDelayMinutes\",\"DepDel15\",\"DepartureDelayGroups\",\"DepTimeBlk\",\"TaxiOut\",\"WheelsOff\",\"WheelsOn\",\"TaxiIn\",\"CRSArrTime\",\"ArrTime\",\"ArrDelay\",\"ArrDelayMinutes\",\"ArrDel15\",\"ArrivalDelayGroups\",\"ArrTimeBlk\",\"Cancelled\",\"CancellationCode\",\"Diverted\",\"CRSElapsedTime\",\"ActualElapsedTime\",\"AirTime\",\"Flights\",\"Distance\",\"DistanceGroup\",\"CarrierDelay\",\"WeatherDelay\",\"NASDelay\",\"SecurityDelay\",\"LateAircraftDelay\",\"FirstDepTime\",\"TotalAddGTime\",\"LongestAddGTime\",\"DivAirportLandings\",\"DivReachedDest\",\"DivActualElapsedTime\",\"DivArrDelay\",\"DivDistance\",\"Div1Airport\",\"Div1AirportID\",\"Div1AirportSeqID\",\"Div1WheelsOn\",\"Div1TotalGTime\",\"Div1LongestGTime\",\"Div1WheelsOff\",\"Div1TailNum\",\"Div2Airport\",\"Div2AirportID\",\"Div2AirportSeqID\",\"Div2WheelsOn\",\"Div2TotalGTime\",\"Div2LongestGTime\",\"Div2WheelsOff\",\"Div2TailNum\",\"Div3Airport\",\"Div3AirportID\",\"Div3AirportSeqID\",\"Div3WheelsOn\",\"Div3TotalGTime\",\"Div3LongestGTime\",\"Div3WheelsOff\",\"Div3TailNum\",\"Div4Airport\",\"Div4AirportID\",\"Div4AirportSeqID\",\"Div4WheelsOn\",\"Div4TotalGTime\",\"Div4LongestGTime\",\"Div4WheelsOff\",\"Div4TailNum\",\"Div5Airport\",\"Div5AirportID\",\"Div5AirportSeqID\",\"Div5WheelsOn\",\"Div5TotalGTime\",\"Div5LongestGTime\",\"Div5WheelsOff\",\"Div5TailNum\",\r\n",
      "2015,1,1,1,4,2015-01-01,\"AA\",19805,\"AA\",\"N787AA\",\"1\",12478,1247802,31703,\"JFK\",\"New York, NY\",\"NY\",\"36\",\"New York\",22,12892,1289203,32575,\"LAX\",\"Los Angeles, CA\",\"CA\",\"06\",\"California\",91,\"0900\",\"0855\",-5.00,0.00,0.00,-1,\"0900-0959\",17.00,\"0912\",\"1230\",7.00,\"1230\",\"1237\",7.00,7.00,0.00,0,\"1200-1259\",0.00,\"\",0.00,390.00,402.00,378.00,1.00,2475.00,10,,,,,,\"\",,,0,,,,,\"\",,,\"\",,,\"\",\"\",\"\",,,\"\",,,\"\",\"\",\"\",,,\"\",,,\"\",\"\",\"\",,,\"\",,,\"\",\"\",\"\",,,\"\",,,\"\",\"\",\r\n",
      "2015,1,1,2,5,2015-01-02,\"AA\",19805,\"AA\",\"N795AA\",\"1\",12478,1247802,31703,\"JFK\",\"New York, NY\",\"NY\",\"36\",\"New York\",22,12892,1289203,32575,\"LAX\",\"Los Angeles, CA\",\"CA\",\"06\",\"California\",91,\"0900\",\"0850\",-10.00,0.00,0.00,-1,\"0900-0959\",15.00,\"0905\",\"1202\",9.00,\"1230\",\"1211\",-19.00,0.00,0.00,-2,\"1200-1259\",0.00,\"\",0.00,390.00,381.00,357.00,1.00,2475.00,10,,,,,,\"\",,,0,,,,,\"\",,,\"\",,,\"\",\"\",\"\",,,\"\",,,\"\",\"\",\"\",,,\"\",,,\"\",\"\",\"\",,,\"\",,,\"\",\"\",\"\",,,\"\",,,\"\",\"\",\r\n",
      "\r\n",
      "gzip: stdout: Broken pipe\r\n"
     ]
    }
   ],
   "source": [
    "# have a look at the beginning of one of the files to see what they look like\n",
    "#On the fly, usar los datos sin descomprimir el archivo:\n",
    "# \n",
    "! zcat {path_to_zips}On_Time_On_Time_Performance_2015_1.zip | head -n 3          "
   ]
  },
  {
   "cell_type": "markdown",
   "metadata": {},
   "source": [
    "Pretty unreadable, so we go for a tool designed specifically for tabular data: **pandas**"
   ]
  },
  {
   "cell_type": "markdown",
   "metadata": {},
   "source": [
    "### Load some of the data (one of the files) into memory as a pandas dataframe. What functions do you need to use?\n",
    "\n",
    "Pro tip: there is no need to decompress the whole file. Check out [zipfile.ZipFile](https://docs.python.org/2/library/zipfile.html)"
   ]
  },
  {
   "cell_type": "markdown",
   "metadata": {},
   "source": [
    "First, open a connection to one of the files"
   ]
  },
  {
   "cell_type": "code",
   "execution_count": 9,
   "metadata": {
    "collapsed": false,
    "scrolled": true
   },
   "outputs": [
    {
     "data": {
      "text/plain": [
       "'On_Time_On_Time_Performance_2015_1.csv'"
      ]
     },
     "execution_count": 9,
     "metadata": {},
     "output_type": "execute_result"
    }
   ],
   "source": [
    "from zipfile import ZipFile\n",
    "\n",
    "zip_file = ZipFile('/home/dsc/Data/us_dot/otp/On_Time_On_Time_Performance_2015_1.zip')\n",
    "fileinfo_1, fileinfo_2 = zip_file.filelist\n",
    "\n",
    "fileinfo_1.filename\n"
   ]
  },
  {
   "cell_type": "markdown",
   "metadata": {
    "collapsed": true
   },
   "source": [
    "Now we're ready to load the file into memory as a pandas dataframe. Remember to close the connections to the files!"
   ]
  },
  {
   "cell_type": "code",
   "execution_count": 10,
   "metadata": {
    "collapsed": false
   },
   "outputs": [
    {
     "name": "stderr",
     "output_type": "stream",
     "text": [
      "/home/dsc/anaconda2/lib/python2.7/site-packages/IPython/core/interactiveshell.py:2723: DtypeWarning: Columns (77,84,85) have mixed types. Specify dtype option on import or set low_memory=False.\n",
      "  interactivity=interactivity, compiler=compiler, result=result)\n"
     ]
    }
   ],
   "source": [
    "# You'll have to play a bit with the options to display the file properly\n",
    "import pandas as pd\n",
    "\n",
    "csv = zip_file.open(fileinfo_1.filename)\n",
    "df = pd.read_csv(csv)\n"
   ]
  },
  {
   "cell_type": "code",
   "execution_count": 11,
   "metadata": {
    "collapsed": false
   },
   "outputs": [
    {
     "data": {
      "text/plain": [
       "Year                    int64\n",
       "Quarter                 int64\n",
       "Month                   int64\n",
       "DayofMonth              int64\n",
       "DayOfWeek               int64\n",
       "FlightDate             object\n",
       "UniqueCarrier          object\n",
       "AirlineID               int64\n",
       "Carrier                object\n",
       "TailNum                object\n",
       "FlightNum               int64\n",
       "OriginAirportID         int64\n",
       "OriginAirportSeqID      int64\n",
       "OriginCityMarketID      int64\n",
       "Origin                 object\n",
       "OriginCityName         object\n",
       "OriginState            object\n",
       "OriginStateFips         int64\n",
       "OriginStateName        object\n",
       "OriginWac               int64\n",
       "DestAirportID           int64\n",
       "DestAirportSeqID        int64\n",
       "DestCityMarketID        int64\n",
       "Dest                   object\n",
       "DestCityName           object\n",
       "DestState              object\n",
       "DestStateFips           int64\n",
       "DestStateName          object\n",
       "DestWac                 int64\n",
       "CRSDepTime              int64\n",
       "                       ...   \n",
       "Div2WheelsOn          float64\n",
       "Div2TotalGTime        float64\n",
       "Div2LongestGTime      float64\n",
       "Div2WheelsOff         float64\n",
       "Div2TailNum            object\n",
       "Div3Airport            object\n",
       "Div3AirportID         float64\n",
       "Div3AirportSeqID      float64\n",
       "Div3WheelsOn          float64\n",
       "Div3TotalGTime        float64\n",
       "Div3LongestGTime      float64\n",
       "Div3WheelsOff         float64\n",
       "Div3TailNum           float64\n",
       "Div4Airport           float64\n",
       "Div4AirportID         float64\n",
       "Div4AirportSeqID      float64\n",
       "Div4WheelsOn          float64\n",
       "Div4TotalGTime        float64\n",
       "Div4LongestGTime      float64\n",
       "Div4WheelsOff         float64\n",
       "Div4TailNum           float64\n",
       "Div5Airport           float64\n",
       "Div5AirportID         float64\n",
       "Div5AirportSeqID      float64\n",
       "Div5WheelsOn          float64\n",
       "Div5TotalGTime        float64\n",
       "Div5LongestGTime      float64\n",
       "Div5WheelsOff         float64\n",
       "Div5TailNum           float64\n",
       "Unnamed: 109          float64\n",
       "dtype: object"
      ]
     },
     "execution_count": 11,
     "metadata": {},
     "output_type": "execute_result"
    }
   ],
   "source": [
    "df.dtypes"
   ]
  },
  {
   "cell_type": "markdown",
   "metadata": {},
   "source": [
    "Let's start examining the data: show the beginning of the file. How many records does it contain?"
   ]
  },
  {
   "cell_type": "code",
   "execution_count": 12,
   "metadata": {
    "collapsed": false
   },
   "outputs": [
    {
     "data": {
      "text/html": [
       "<div>\n",
       "<table border=\"1\" class=\"dataframe\">\n",
       "  <thead>\n",
       "    <tr style=\"text-align: right;\">\n",
       "      <th></th>\n",
       "      <th>Year</th>\n",
       "      <th>Quarter</th>\n",
       "      <th>Month</th>\n",
       "      <th>DayofMonth</th>\n",
       "      <th>DayOfWeek</th>\n",
       "      <th>FlightDate</th>\n",
       "      <th>UniqueCarrier</th>\n",
       "      <th>AirlineID</th>\n",
       "      <th>Carrier</th>\n",
       "      <th>TailNum</th>\n",
       "      <th>...</th>\n",
       "      <th>Div4TailNum</th>\n",
       "      <th>Div5Airport</th>\n",
       "      <th>Div5AirportID</th>\n",
       "      <th>Div5AirportSeqID</th>\n",
       "      <th>Div5WheelsOn</th>\n",
       "      <th>Div5TotalGTime</th>\n",
       "      <th>Div5LongestGTime</th>\n",
       "      <th>Div5WheelsOff</th>\n",
       "      <th>Div5TailNum</th>\n",
       "      <th>Unnamed: 109</th>\n",
       "    </tr>\n",
       "  </thead>\n",
       "  <tbody>\n",
       "    <tr>\n",
       "      <th>0</th>\n",
       "      <td>2015</td>\n",
       "      <td>1</td>\n",
       "      <td>1</td>\n",
       "      <td>1</td>\n",
       "      <td>4</td>\n",
       "      <td>2015-01-01</td>\n",
       "      <td>AA</td>\n",
       "      <td>19805</td>\n",
       "      <td>AA</td>\n",
       "      <td>N787AA</td>\n",
       "      <td>...</td>\n",
       "      <td>NaN</td>\n",
       "      <td>NaN</td>\n",
       "      <td>NaN</td>\n",
       "      <td>NaN</td>\n",
       "      <td>NaN</td>\n",
       "      <td>NaN</td>\n",
       "      <td>NaN</td>\n",
       "      <td>NaN</td>\n",
       "      <td>NaN</td>\n",
       "      <td>NaN</td>\n",
       "    </tr>\n",
       "    <tr>\n",
       "      <th>1</th>\n",
       "      <td>2015</td>\n",
       "      <td>1</td>\n",
       "      <td>1</td>\n",
       "      <td>2</td>\n",
       "      <td>5</td>\n",
       "      <td>2015-01-02</td>\n",
       "      <td>AA</td>\n",
       "      <td>19805</td>\n",
       "      <td>AA</td>\n",
       "      <td>N795AA</td>\n",
       "      <td>...</td>\n",
       "      <td>NaN</td>\n",
       "      <td>NaN</td>\n",
       "      <td>NaN</td>\n",
       "      <td>NaN</td>\n",
       "      <td>NaN</td>\n",
       "      <td>NaN</td>\n",
       "      <td>NaN</td>\n",
       "      <td>NaN</td>\n",
       "      <td>NaN</td>\n",
       "      <td>NaN</td>\n",
       "    </tr>\n",
       "    <tr>\n",
       "      <th>2</th>\n",
       "      <td>2015</td>\n",
       "      <td>1</td>\n",
       "      <td>1</td>\n",
       "      <td>3</td>\n",
       "      <td>6</td>\n",
       "      <td>2015-01-03</td>\n",
       "      <td>AA</td>\n",
       "      <td>19805</td>\n",
       "      <td>AA</td>\n",
       "      <td>N788AA</td>\n",
       "      <td>...</td>\n",
       "      <td>NaN</td>\n",
       "      <td>NaN</td>\n",
       "      <td>NaN</td>\n",
       "      <td>NaN</td>\n",
       "      <td>NaN</td>\n",
       "      <td>NaN</td>\n",
       "      <td>NaN</td>\n",
       "      <td>NaN</td>\n",
       "      <td>NaN</td>\n",
       "      <td>NaN</td>\n",
       "    </tr>\n",
       "  </tbody>\n",
       "</table>\n",
       "<p>3 rows × 110 columns</p>\n",
       "</div>"
      ],
      "text/plain": [
       "   Year  Quarter  Month  DayofMonth  DayOfWeek  FlightDate UniqueCarrier  \\\n",
       "0  2015        1      1           1          4  2015-01-01            AA   \n",
       "1  2015        1      1           2          5  2015-01-02            AA   \n",
       "2  2015        1      1           3          6  2015-01-03            AA   \n",
       "\n",
       "   AirlineID Carrier TailNum      ...       Div4TailNum  Div5Airport  \\\n",
       "0      19805      AA  N787AA      ...               NaN          NaN   \n",
       "1      19805      AA  N795AA      ...               NaN          NaN   \n",
       "2      19805      AA  N788AA      ...               NaN          NaN   \n",
       "\n",
       "   Div5AirportID  Div5AirportSeqID Div5WheelsOn Div5TotalGTime  \\\n",
       "0            NaN               NaN          NaN            NaN   \n",
       "1            NaN               NaN          NaN            NaN   \n",
       "2            NaN               NaN          NaN            NaN   \n",
       "\n",
       "  Div5LongestGTime  Div5WheelsOff Div5TailNum  Unnamed: 109  \n",
       "0              NaN            NaN         NaN           NaN  \n",
       "1              NaN            NaN         NaN           NaN  \n",
       "2              NaN            NaN         NaN           NaN  \n",
       "\n",
       "[3 rows x 110 columns]"
      ]
     },
     "execution_count": 12,
     "metadata": {},
     "output_type": "execute_result"
    }
   ],
   "source": [
    "# beginning \n",
    "df.head(3)"
   ]
  },
  {
   "cell_type": "code",
   "execution_count": 13,
   "metadata": {
    "collapsed": false
   },
   "outputs": [
    {
     "name": "stdout",
     "output_type": "stream",
     "text": [
      "The dataframe has 469968 records and 110 fields\n"
     ]
    }
   ],
   "source": [
    "# how many records?\n",
    "num_records = df.shape[0]\n",
    "num_fields = df.shape[1]\n",
    "\n",
    "print \"The dataframe has %d records and %d fields\" %(num_records, num_fields)"
   ]
  },
  {
   "cell_type": "code",
   "execution_count": 14,
   "metadata": {
    "collapsed": false
   },
   "outputs": [
    {
     "data": {
      "text/plain": [
       "51696480"
      ]
     },
     "execution_count": 14,
     "metadata": {},
     "output_type": "execute_result"
    }
   ],
   "source": [
    "df.size"
   ]
  },
  {
   "cell_type": "code",
   "execution_count": 15,
   "metadata": {
    "collapsed": false
   },
   "outputs": [
    {
     "data": {
      "text/plain": [
       "True"
      ]
     },
     "execution_count": 15,
     "metadata": {},
     "output_type": "execute_result"
    }
   ],
   "source": [
    "df.size == num_records * num_fields"
   ]
  },
  {
   "cell_type": "code",
   "execution_count": 16,
   "metadata": {
    "collapsed": false,
    "scrolled": false
   },
   "outputs": [
    {
     "data": {
      "text/plain": [
       "['Year',\n",
       " 'Quarter',\n",
       " 'Month',\n",
       " 'DayofMonth',\n",
       " 'DayOfWeek',\n",
       " 'FlightDate',\n",
       " 'UniqueCarrier',\n",
       " 'AirlineID',\n",
       " 'Carrier',\n",
       " 'TailNum',\n",
       " 'FlightNum',\n",
       " 'OriginAirportID',\n",
       " 'OriginAirportSeqID',\n",
       " 'OriginCityMarketID',\n",
       " 'Origin',\n",
       " 'OriginCityName',\n",
       " 'OriginState',\n",
       " 'OriginStateFips',\n",
       " 'OriginStateName',\n",
       " 'OriginWac',\n",
       " 'DestAirportID',\n",
       " 'DestAirportSeqID',\n",
       " 'DestCityMarketID',\n",
       " 'Dest',\n",
       " 'DestCityName',\n",
       " 'DestState',\n",
       " 'DestStateFips',\n",
       " 'DestStateName',\n",
       " 'DestWac',\n",
       " 'CRSDepTime',\n",
       " 'DepTime',\n",
       " 'DepDelay',\n",
       " 'DepDelayMinutes',\n",
       " 'DepDel15',\n",
       " 'DepartureDelayGroups',\n",
       " 'DepTimeBlk',\n",
       " 'TaxiOut',\n",
       " 'WheelsOff',\n",
       " 'WheelsOn',\n",
       " 'TaxiIn',\n",
       " 'CRSArrTime',\n",
       " 'ArrTime',\n",
       " 'ArrDelay',\n",
       " 'ArrDelayMinutes',\n",
       " 'ArrDel15',\n",
       " 'ArrivalDelayGroups',\n",
       " 'ArrTimeBlk',\n",
       " 'Cancelled',\n",
       " 'CancellationCode',\n",
       " 'Diverted',\n",
       " 'CRSElapsedTime',\n",
       " 'ActualElapsedTime',\n",
       " 'AirTime',\n",
       " 'Flights',\n",
       " 'Distance',\n",
       " 'DistanceGroup',\n",
       " 'CarrierDelay',\n",
       " 'WeatherDelay',\n",
       " 'NASDelay',\n",
       " 'SecurityDelay',\n",
       " 'LateAircraftDelay',\n",
       " 'FirstDepTime',\n",
       " 'TotalAddGTime',\n",
       " 'LongestAddGTime',\n",
       " 'DivAirportLandings',\n",
       " 'DivReachedDest',\n",
       " 'DivActualElapsedTime',\n",
       " 'DivArrDelay',\n",
       " 'DivDistance',\n",
       " 'Div1Airport',\n",
       " 'Div1AirportID',\n",
       " 'Div1AirportSeqID',\n",
       " 'Div1WheelsOn',\n",
       " 'Div1TotalGTime',\n",
       " 'Div1LongestGTime',\n",
       " 'Div1WheelsOff',\n",
       " 'Div1TailNum',\n",
       " 'Div2Airport',\n",
       " 'Div2AirportID',\n",
       " 'Div2AirportSeqID',\n",
       " 'Div2WheelsOn',\n",
       " 'Div2TotalGTime',\n",
       " 'Div2LongestGTime',\n",
       " 'Div2WheelsOff',\n",
       " 'Div2TailNum',\n",
       " 'Div3Airport',\n",
       " 'Div3AirportID',\n",
       " 'Div3AirportSeqID',\n",
       " 'Div3WheelsOn',\n",
       " 'Div3TotalGTime',\n",
       " 'Div3LongestGTime',\n",
       " 'Div3WheelsOff',\n",
       " 'Div3TailNum',\n",
       " 'Div4Airport',\n",
       " 'Div4AirportID',\n",
       " 'Div4AirportSeqID',\n",
       " 'Div4WheelsOn',\n",
       " 'Div4TotalGTime',\n",
       " 'Div4LongestGTime',\n",
       " 'Div4WheelsOff',\n",
       " 'Div4TailNum',\n",
       " 'Div5Airport',\n",
       " 'Div5AirportID',\n",
       " 'Div5AirportSeqID',\n",
       " 'Div5WheelsOn',\n",
       " 'Div5TotalGTime',\n",
       " 'Div5LongestGTime',\n",
       " 'Div5WheelsOff',\n",
       " 'Div5TailNum',\n",
       " 'Unnamed: 109']"
      ]
     },
     "execution_count": 16,
     "metadata": {},
     "output_type": "execute_result"
    }
   ],
   "source": [
    "list(df.columns) # or list(df)"
   ]
  },
  {
   "cell_type": "code",
   "execution_count": 17,
   "metadata": {
    "collapsed": true
   },
   "outputs": [],
   "source": [
    "! echo {list(df)} > header.txt #Redirigir a un archivo utilizando la Shell"
   ]
  },
  {
   "cell_type": "markdown",
   "metadata": {},
   "source": [
    "## Trimming the data\n",
    "\n",
    "The table is quite wide, and it seems that there are many columns without much data. Which, exactly, are those? (let's consider empty a column that doesn't contain at least 1000 records, arbitrarily)"
   ]
  },
  {
   "cell_type": "code",
   "execution_count": 18,
   "metadata": {
    "collapsed": false,
    "scrolled": true
   },
   "outputs": [
    {
     "data": {
      "text/plain": [
       "Year                  469968\n",
       "Quarter               469968\n",
       "Month                 469968\n",
       "DayofMonth            469968\n",
       "DayOfWeek             469968\n",
       "FlightDate            469968\n",
       "UniqueCarrier         469968\n",
       "AirlineID             469968\n",
       "Carrier               469968\n",
       "TailNum               467186\n",
       "FlightNum             469968\n",
       "OriginAirportID       469968\n",
       "OriginAirportSeqID    469968\n",
       "OriginCityMarketID    469968\n",
       "Origin                469968\n",
       "OriginCityName        469968\n",
       "OriginState           469968\n",
       "OriginStateFips       469968\n",
       "OriginStateName       469968\n",
       "OriginWac             469968\n",
       "DestAirportID         469968\n",
       "DestAirportSeqID      469968\n",
       "DestCityMarketID      469968\n",
       "Dest                  469968\n",
       "DestCityName          469968\n",
       "DestState             469968\n",
       "DestStateFips         469968\n",
       "DestStateName         469968\n",
       "DestWac               469968\n",
       "CRSDepTime            469968\n",
       "                       ...  \n",
       "Div2WheelsOn              27\n",
       "Div2TotalGTime            27\n",
       "Div2LongestGTime          27\n",
       "Div2WheelsOff              9\n",
       "Div2TailNum                9\n",
       "Div3Airport                2\n",
       "Div3AirportID              2\n",
       "Div3AirportSeqID           2\n",
       "Div3WheelsOn               2\n",
       "Div3TotalGTime             2\n",
       "Div3LongestGTime           2\n",
       "Div3WheelsOff              0\n",
       "Div3TailNum                0\n",
       "Div4Airport                0\n",
       "Div4AirportID              0\n",
       "Div4AirportSeqID           0\n",
       "Div4WheelsOn               0\n",
       "Div4TotalGTime             0\n",
       "Div4LongestGTime           0\n",
       "Div4WheelsOff              0\n",
       "Div4TailNum                0\n",
       "Div5Airport                0\n",
       "Div5AirportID              0\n",
       "Div5AirportSeqID           0\n",
       "Div5WheelsOn               0\n",
       "Div5TotalGTime             0\n",
       "Div5LongestGTime           0\n",
       "Div5WheelsOff              0\n",
       "Div5TailNum                0\n",
       "Unnamed: 109               0\n",
       "dtype: int64"
      ]
     },
     "execution_count": 18,
     "metadata": {},
     "output_type": "execute_result"
    }
   ],
   "source": [
    "# Choose the columns\n",
    "df.count()"
   ]
  },
  {
   "cell_type": "markdown",
   "metadata": {
    "collapsed": true
   },
   "source": [
    "It seems that the \"diverted\" fields, after the first, are often empty. No big surprise, since not that many flights must be diverted more than once in a month. Let's drop those columns, since we are not that interested in those, at least for now."
   ]
  },
  {
   "cell_type": "code",
   "execution_count": 19,
   "metadata": {
    "collapsed": false
   },
   "outputs": [
    {
     "name": "stdout",
     "output_type": "stream",
     "text": [
      "Help on method drop in module pandas.core.generic:\n",
      "\n",
      "drop(self, labels, axis=0, level=None, inplace=False, errors='raise') method of pandas.core.frame.DataFrame instance\n",
      "    Return new object with labels in requested axis removed.\n",
      "    \n",
      "    Parameters\n",
      "    ----------\n",
      "    labels : single label or list-like\n",
      "    axis : int or axis name\n",
      "    level : int or level name, default None\n",
      "        For MultiIndex\n",
      "    inplace : bool, default False\n",
      "        If True, do operation inplace and return None.\n",
      "    errors : {'ignore', 'raise'}, default 'raise'\n",
      "        If 'ignore', suppress error and existing labels are dropped.\n",
      "    \n",
      "        .. versionadded:: 0.16.1\n",
      "    \n",
      "    Returns\n",
      "    -------\n",
      "    dropped : type of caller\n",
      "\n"
     ]
    }
   ],
   "source": [
    "help(df.drop)"
   ]
  },
  {
   "cell_type": "code",
   "execution_count": 20,
   "metadata": {
    "collapsed": false
   },
   "outputs": [],
   "source": [
    "# Drop the columns with under 1000 columns\n",
    "cols_to_drop = df.columns[df.count() < 1000]\n"
   ]
  },
  {
   "cell_type": "code",
   "execution_count": 21,
   "metadata": {
    "collapsed": false
   },
   "outputs": [],
   "source": [
    "df2 = df.drop(cols_to_drop, axis = 1)"
   ]
  },
  {
   "cell_type": "code",
   "execution_count": 22,
   "metadata": {
    "collapsed": false
   },
   "outputs": [
    {
     "data": {
      "text/plain": [
       "(469968, 71)"
      ]
     },
     "execution_count": 22,
     "metadata": {},
     "output_type": "execute_result"
    }
   ],
   "source": [
    "df2.shape"
   ]
  },
  {
   "cell_type": "code",
   "execution_count": 23,
   "metadata": {
    "collapsed": true
   },
   "outputs": [],
   "source": [
    "#Otra forma:\n",
    "# df.dropna(axis = 1, thresh = 1000).shape"
   ]
  },
  {
   "cell_type": "code",
   "execution_count": 24,
   "metadata": {
    "collapsed": false
   },
   "outputs": [
    {
     "data": {
      "text/plain": [
       "True"
      ]
     },
     "execution_count": 24,
     "metadata": {},
     "output_type": "execute_result"
    }
   ],
   "source": [
    "df.dropna(axis = 1, thresh = 1000).shape == df2.shape"
   ]
  },
  {
   "cell_type": "markdown",
   "metadata": {},
   "source": [
    "Now that we have eliminated some inconvenient data columns, let's have a look at the rest:"
   ]
  },
  {
   "cell_type": "markdown",
   "metadata": {},
   "source": [
    "Let's look at how the location data is encoded.\n",
    "\n",
    "### Select the columns that have 'Origin' in their name\n",
    "\n",
    "Hint: we are going to use the `str` attribute of Series and Indexes"
   ]
  },
  {
   "cell_type": "code",
   "execution_count": 25,
   "metadata": {
    "collapsed": false,
    "scrolled": true
   },
   "outputs": [],
   "source": [
    "# Show all columns with Origin in their name\n",
    "\n",
    "origin_cols = df2.columns[df2.columns.str.contains('Origin')]"
   ]
  },
  {
   "cell_type": "markdown",
   "metadata": {},
   "source": [
    "Let's now have a look at these. We have been using the .head() method, but that always returns the same values, so it's not that good for getting a feel for the data. Let's start using a better one, that will give us a sample of the data: df.sample()"
   ]
  },
  {
   "cell_type": "code",
   "execution_count": 26,
   "metadata": {
    "collapsed": false,
    "scrolled": true
   },
   "outputs": [
    {
     "data": {
      "text/html": [
       "<div>\n",
       "<table border=\"1\" class=\"dataframe\">\n",
       "  <thead>\n",
       "    <tr style=\"text-align: right;\">\n",
       "      <th></th>\n",
       "      <th>OriginAirportID</th>\n",
       "      <th>OriginAirportSeqID</th>\n",
       "      <th>OriginCityMarketID</th>\n",
       "      <th>Origin</th>\n",
       "      <th>OriginCityName</th>\n",
       "      <th>OriginState</th>\n",
       "      <th>OriginStateFips</th>\n",
       "      <th>OriginStateName</th>\n",
       "      <th>OriginWac</th>\n",
       "    </tr>\n",
       "  </thead>\n",
       "  <tbody>\n",
       "    <tr>\n",
       "      <th>432724</th>\n",
       "      <td>12892</td>\n",
       "      <td>1289203</td>\n",
       "      <td>32575</td>\n",
       "      <td>LAX</td>\n",
       "      <td>Los Angeles, CA</td>\n",
       "      <td>CA</td>\n",
       "      <td>6</td>\n",
       "      <td>California</td>\n",
       "      <td>91</td>\n",
       "    </tr>\n",
       "    <tr>\n",
       "      <th>402285</th>\n",
       "      <td>10397</td>\n",
       "      <td>1039705</td>\n",
       "      <td>30397</td>\n",
       "      <td>ATL</td>\n",
       "      <td>Atlanta, GA</td>\n",
       "      <td>GA</td>\n",
       "      <td>13</td>\n",
       "      <td>Georgia</td>\n",
       "      <td>34</td>\n",
       "    </tr>\n",
       "    <tr>\n",
       "      <th>297335</th>\n",
       "      <td>12892</td>\n",
       "      <td>1289203</td>\n",
       "      <td>32575</td>\n",
       "      <td>LAX</td>\n",
       "      <td>Los Angeles, CA</td>\n",
       "      <td>CA</td>\n",
       "      <td>6</td>\n",
       "      <td>California</td>\n",
       "      <td>91</td>\n",
       "    </tr>\n",
       "    <tr>\n",
       "      <th>420088</th>\n",
       "      <td>13930</td>\n",
       "      <td>1393003</td>\n",
       "      <td>30977</td>\n",
       "      <td>ORD</td>\n",
       "      <td>Chicago, IL</td>\n",
       "      <td>IL</td>\n",
       "      <td>17</td>\n",
       "      <td>Illinois</td>\n",
       "      <td>41</td>\n",
       "    </tr>\n",
       "    <tr>\n",
       "      <th>351216</th>\n",
       "      <td>10529</td>\n",
       "      <td>1052904</td>\n",
       "      <td>30529</td>\n",
       "      <td>BDL</td>\n",
       "      <td>Hartford, CT</td>\n",
       "      <td>CT</td>\n",
       "      <td>9</td>\n",
       "      <td>Connecticut</td>\n",
       "      <td>11</td>\n",
       "    </tr>\n",
       "    <tr>\n",
       "      <th>348515</th>\n",
       "      <td>12451</td>\n",
       "      <td>1245102</td>\n",
       "      <td>31136</td>\n",
       "      <td>JAX</td>\n",
       "      <td>Jacksonville, FL</td>\n",
       "      <td>FL</td>\n",
       "      <td>12</td>\n",
       "      <td>Florida</td>\n",
       "      <td>33</td>\n",
       "    </tr>\n",
       "    <tr>\n",
       "      <th>422108</th>\n",
       "      <td>10397</td>\n",
       "      <td>1039705</td>\n",
       "      <td>30397</td>\n",
       "      <td>ATL</td>\n",
       "      <td>Atlanta, GA</td>\n",
       "      <td>GA</td>\n",
       "      <td>13</td>\n",
       "      <td>Georgia</td>\n",
       "      <td>34</td>\n",
       "    </tr>\n",
       "    <tr>\n",
       "      <th>369808</th>\n",
       "      <td>11697</td>\n",
       "      <td>1169703</td>\n",
       "      <td>32467</td>\n",
       "      <td>FLL</td>\n",
       "      <td>Fort Lauderdale, FL</td>\n",
       "      <td>FL</td>\n",
       "      <td>12</td>\n",
       "      <td>Florida</td>\n",
       "      <td>33</td>\n",
       "    </tr>\n",
       "    <tr>\n",
       "      <th>56553</th>\n",
       "      <td>12478</td>\n",
       "      <td>1247802</td>\n",
       "      <td>31703</td>\n",
       "      <td>JFK</td>\n",
       "      <td>New York, NY</td>\n",
       "      <td>NY</td>\n",
       "      <td>36</td>\n",
       "      <td>New York</td>\n",
       "      <td>22</td>\n",
       "    </tr>\n",
       "    <tr>\n",
       "      <th>98734</th>\n",
       "      <td>12478</td>\n",
       "      <td>1247802</td>\n",
       "      <td>31703</td>\n",
       "      <td>JFK</td>\n",
       "      <td>New York, NY</td>\n",
       "      <td>NY</td>\n",
       "      <td>36</td>\n",
       "      <td>New York</td>\n",
       "      <td>22</td>\n",
       "    </tr>\n",
       "  </tbody>\n",
       "</table>\n",
       "</div>"
      ],
      "text/plain": [
       "        OriginAirportID  OriginAirportSeqID  OriginCityMarketID Origin  \\\n",
       "432724            12892             1289203               32575    LAX   \n",
       "402285            10397             1039705               30397    ATL   \n",
       "297335            12892             1289203               32575    LAX   \n",
       "420088            13930             1393003               30977    ORD   \n",
       "351216            10529             1052904               30529    BDL   \n",
       "348515            12451             1245102               31136    JAX   \n",
       "422108            10397             1039705               30397    ATL   \n",
       "369808            11697             1169703               32467    FLL   \n",
       "56553             12478             1247802               31703    JFK   \n",
       "98734             12478             1247802               31703    JFK   \n",
       "\n",
       "             OriginCityName OriginState  OriginStateFips OriginStateName  \\\n",
       "432724      Los Angeles, CA          CA                6      California   \n",
       "402285          Atlanta, GA          GA               13         Georgia   \n",
       "297335      Los Angeles, CA          CA                6      California   \n",
       "420088          Chicago, IL          IL               17        Illinois   \n",
       "351216         Hartford, CT          CT                9     Connecticut   \n",
       "348515     Jacksonville, FL          FL               12         Florida   \n",
       "422108          Atlanta, GA          GA               13         Georgia   \n",
       "369808  Fort Lauderdale, FL          FL               12         Florida   \n",
       "56553          New York, NY          NY               36        New York   \n",
       "98734          New York, NY          NY               36        New York   \n",
       "\n",
       "        OriginWac  \n",
       "432724         91  \n",
       "402285         34  \n",
       "297335         91  \n",
       "420088         41  \n",
       "351216         11  \n",
       "348515         33  \n",
       "422108         34  \n",
       "369808         33  \n",
       "56553          22  \n",
       "98734          22  "
      ]
     },
     "execution_count": 26,
     "metadata": {},
     "output_type": "execute_result"
    }
   ],
   "source": [
    "df2[origin_cols].sample(10)"
   ]
  },
  {
   "cell_type": "code",
   "execution_count": 27,
   "metadata": {
    "collapsed": false
   },
   "outputs": [
    {
     "name": "stdout",
     "output_type": "stream",
     "text": [
      "['JFK' 'LGA']\n",
      "['DCA' 'IAD']\n"
     ]
    }
   ],
   "source": [
    "#Sacar todos los aeropuertos de la ciudad de New York\n",
    "\n",
    "df2['OriginCityName'] == 'New York, NY'\n",
    "\n",
    "print df2[df2['OriginCityName'] == 'New York, NY']['Origin'].unique()\n",
    "\n",
    "print df2[df2['OriginCityName'].str.contains('Washington')]['Origin'].unique()"
   ]
  },
  {
   "cell_type": "markdown",
   "metadata": {},
   "source": [
    "So much redundant information!!!!! Let's drop a few of those fields. Remember, 90% of the time spent in Data Science is data cleaning... "
   ]
  },
  {
   "cell_type": "code",
   "execution_count": 28,
   "metadata": {
    "collapsed": false
   },
   "outputs": [],
   "source": [
    "origin_cols_to_keep = ['Origin', 'OriginCityName']\n",
    "\n",
    "origin_cols_to_drop = origin_cols.difference(origin_cols_to_keep)\n",
    "\n"
   ]
  },
  {
   "cell_type": "code",
   "execution_count": 29,
   "metadata": {
    "collapsed": false
   },
   "outputs": [
    {
     "data": {
      "text/plain": [
       "(469968, 64)"
      ]
     },
     "execution_count": 29,
     "metadata": {},
     "output_type": "execute_result"
    }
   ],
   "source": [
    "df3 = df2.drop(origin_cols_to_drop, axis = 1)\n",
    "df3.shape"
   ]
  },
  {
   "cell_type": "markdown",
   "metadata": {},
   "source": [
    "### Do the same for the destination columns"
   ]
  },
  {
   "cell_type": "code",
   "execution_count": 30,
   "metadata": {
    "collapsed": false
   },
   "outputs": [],
   "source": [
    "#Homework"
   ]
  },
  {
   "cell_type": "markdown",
   "metadata": {},
   "source": [
    "### Now, discard all these columns with redundant information. \n",
    "\n",
    "The set of columns we want to discard is \n",
    "\n",
    "`df.columns[col_contains_dest] + df.columns[col_contains_origin] - columns_of_interest`\n",
    "\n",
    "We'll also use the opportunity to drop Year, Month, Day and Quarter columns since that is information that is already contained in FlightDate. We'll keep the DayOfWeek, though."
   ]
  },
  {
   "cell_type": "code",
   "execution_count": 31,
   "metadata": {
    "collapsed": false
   },
   "outputs": [],
   "source": [
    "#Homework"
   ]
  },
  {
   "cell_type": "markdown",
   "metadata": {},
   "source": [
    "OK, so we have cleaned up most of the date / location information,  and some of the extra information that was not really useful, in the process reducing the dataframe from 110 columns to 60. Let's look at the really interesting info: delays."
   ]
  },
  {
   "cell_type": "markdown",
   "metadata": {},
   "source": [
    "### Select all columns that contain 'Delay' in their column name"
   ]
  },
  {
   "cell_type": "code",
   "execution_count": 32,
   "metadata": {
    "collapsed": false
   },
   "outputs": [],
   "source": [
    "#Homework"
   ]
  },
  {
   "cell_type": "markdown",
   "metadata": {},
   "source": [
    "OK, we are going to center our attention in the DepDelay column, so we won't need the others. \n",
    "\n",
    "### Drop those too. \n",
    "\n",
    "We already know the drill, don't we?"
   ]
  },
  {
   "cell_type": "code",
   "execution_count": 33,
   "metadata": {
    "collapsed": false
   },
   "outputs": [],
   "source": [
    "#Homework"
   ]
  },
  {
   "cell_type": "markdown",
   "metadata": {},
   "source": [
    "We are not that interested in the 'Diverted' columns either, so let's drop those too"
   ]
  },
  {
   "cell_type": "code",
   "execution_count": 34,
   "metadata": {
    "collapsed": false
   },
   "outputs": [],
   "source": [
    "#Homework"
   ]
  },
  {
   "cell_type": "markdown",
   "metadata": {},
   "source": [
    "All of this is getting a little repetitive and boring, so let's just specify the columns we want:"
   ]
  },
  {
   "cell_type": "code",
   "execution_count": 35,
   "metadata": {
    "collapsed": false
   },
   "outputs": [
    {
     "data": {
      "text/plain": [
       "(469968, 15)"
      ]
     },
     "execution_count": 35,
     "metadata": {},
     "output_type": "execute_result"
    }
   ],
   "source": [
    "df = df[['FlightDate', 'DayOfWeek', 'Carrier', 'TailNum', 'FlightNum', 'Origin', \n",
    "         'OriginCityName', 'OriginStateName', 'Dest', 'DestCityName', 'DestStateName',\n",
    "         'DepTime', 'DepDelay', 'AirTime', 'Distance']]\n",
    "df.shape"
   ]
  },
  {
   "cell_type": "markdown",
   "metadata": {},
   "source": [
    "## Formatting columns and parsing dates and times\n",
    "\n",
    "Hurray! we have almost cleaned our dataset. Soon we will begin to do some actual work with it. "
   ]
  },
  {
   "cell_type": "markdown",
   "metadata": {},
   "source": [
    "Pandas interpreted the Deptime column as ints and the FlighDate column as strings. We want to combine them and parse them into a DateTime column, so that we can use them properly as datetimes."
   ]
  },
  {
   "cell_type": "markdown",
   "metadata": {},
   "source": [
    "First, \n",
    "\n",
    "### Define a function that will parse our int hours into a reasonable format (\"HH:MM\")"
   ]
  },
  {
   "cell_type": "code",
   "execution_count": 36,
   "metadata": {
    "collapsed": false
   },
   "outputs": [
    {
     "data": {
      "text/plain": [
       "219007     725.0\n",
       "160302    1609.0\n",
       "160532    1323.0\n",
       "258262     606.0\n",
       "208154     851.0\n",
       "Name: DepTime, dtype: float64"
      ]
     },
     "execution_count": 36,
     "metadata": {},
     "output_type": "execute_result"
    }
   ],
   "source": [
    "# We'll need to take an int and return a string of the appropriate format\n",
    "df['DepTime'].sample(5)"
   ]
  },
  {
   "cell_type": "code",
   "execution_count": 37,
   "metadata": {
    "collapsed": false
   },
   "outputs": [
    {
     "data": {
      "text/plain": [
       "'00:23'"
      ]
     },
     "execution_count": 37,
     "metadata": {},
     "output_type": "execute_result"
    }
   ],
   "source": [
    "def deptime_to_string(num): \n",
    "    \n",
    "    hour = int(num / 100) % 24 #There are 24s in the data\n",
    "    min = int(num % 100)\n",
    "    \n",
    "    return '%02d:%02d' % (hour, min)\n",
    "\n",
    "deptime_to_string(2423.0)"
   ]
  },
  {
   "cell_type": "markdown",
   "metadata": {},
   "source": [
    "Now, we can use that function to build datetime strings that we will then pass to pd.to_datetime, with a format we will specify. Let's do that\n",
    "\n",
    "Hint: Check out [pd.to_datetime](http://pandas.pydata.org/pandas-docs/stable/generated/pandas.to_datetime.html)"
   ]
  },
  {
   "cell_type": "markdown",
   "metadata": {},
   "source": [
    "### Overwrite the 'DepTime' column with its version in the proper (string) format\n",
    "\n",
    "Hint: Before overwriting your column in the dataframe, make sure that everything works by assigning the modified column to a Series variable."
   ]
  },
  {
   "cell_type": "code",
   "execution_count": 38,
   "metadata": {
    "collapsed": false
   },
   "outputs": [
    {
     "data": {
      "text/plain": [
       "291324    21:43\n",
       "10911     11:57\n",
       "334589    11:17\n",
       "Name: DepTime, dtype: object"
      ]
     },
     "execution_count": 38,
     "metadata": {},
     "output_type": "execute_result"
    }
   ],
   "source": [
    "times = df['DepTime'].fillna(0.0).apply(deptime_to_string)\n",
    "times.sample(3)"
   ]
  },
  {
   "cell_type": "code",
   "execution_count": 39,
   "metadata": {
    "collapsed": true
   },
   "outputs": [],
   "source": [
    "df['DepTimeStr'] = df['DepTime'].dropna().apply(deptime_to_string)"
   ]
  },
  {
   "cell_type": "code",
   "execution_count": 40,
   "metadata": {
    "collapsed": false
   },
   "outputs": [
    {
     "data": {
      "text/plain": [
       "458311"
      ]
     },
     "execution_count": 40,
     "metadata": {},
     "output_type": "execute_result"
    }
   ],
   "source": [
    "df['DepTimeStr'].count()"
   ]
  },
  {
   "cell_type": "code",
   "execution_count": 41,
   "metadata": {
    "collapsed": false
   },
   "outputs": [
    {
     "data": {
      "text/plain": [
       "Index([u'FlightDate', u'DayOfWeek', u'Carrier', u'TailNum', u'FlightNum',\n",
       "       u'Origin', u'OriginCityName', u'OriginStateName', u'Dest',\n",
       "       u'DestCityName', u'DestStateName', u'DepTime', u'DepDelay', u'AirTime',\n",
       "       u'Distance', u'DepTimeStr'],\n",
       "      dtype='object')"
      ]
     },
     "execution_count": 41,
     "metadata": {},
     "output_type": "execute_result"
    }
   ],
   "source": [
    "df.columns"
   ]
  },
  {
   "cell_type": "markdown",
   "metadata": {},
   "source": [
    "### Now, create a DepDateTime with the proper type using `pd.to_datetime`"
   ]
  },
  {
   "cell_type": "code",
   "execution_count": 42,
   "metadata": {
    "collapsed": false
   },
   "outputs": [
    {
     "data": {
      "text/plain": [
       "Timestamp('2015-01-15 08:30:00')"
      ]
     },
     "execution_count": 42,
     "metadata": {},
     "output_type": "execute_result"
    }
   ],
   "source": [
    "ts = pd.to_datetime('2015-01-15' + ' 08:30')\n",
    "ts"
   ]
  },
  {
   "cell_type": "code",
   "execution_count": 43,
   "metadata": {
    "collapsed": false
   },
   "outputs": [
    {
     "data": {
      "text/plain": [
       "182524   2015-01-16 21:07:00\n",
       "335824   2015-01-05 22:19:00\n",
       "329639   2015-01-02 16:29:00\n",
       "Name: DepDateTime, dtype: datetime64[ns]"
      ]
     },
     "execution_count": 43,
     "metadata": {},
     "output_type": "execute_result"
    }
   ],
   "source": [
    "df['DepDateTime'] = pd.to_datetime(df['FlightDate'] + ' ' + df['DepTimeStr'])\n",
    "\n",
    "df['DepDateTime'].sample(3)"
   ]
  },
  {
   "cell_type": "code",
   "execution_count": 44,
   "metadata": {
    "collapsed": false,
    "scrolled": true
   },
   "outputs": [
    {
     "data": {
      "text/plain": [
       "FlightDate                 object\n",
       "DayOfWeek                   int64\n",
       "Carrier                    object\n",
       "TailNum                    object\n",
       "FlightNum                   int64\n",
       "Origin                     object\n",
       "OriginCityName             object\n",
       "OriginStateName            object\n",
       "Dest                       object\n",
       "DestCityName               object\n",
       "DestStateName              object\n",
       "DepTime                   float64\n",
       "DepDelay                  float64\n",
       "AirTime                   float64\n",
       "Distance                  float64\n",
       "DepTimeStr                 object\n",
       "DepDateTime        datetime64[ns]\n",
       "dtype: object"
      ]
     },
     "execution_count": 44,
     "metadata": {},
     "output_type": "execute_result"
    }
   ],
   "source": [
    "df.dtypes"
   ]
  },
  {
   "cell_type": "code",
   "execution_count": 45,
   "metadata": {
    "collapsed": false
   },
   "outputs": [],
   "source": [
    "df['FlightNum'] = df['FlightNum'].astype(str)"
   ]
  },
  {
   "cell_type": "markdown",
   "metadata": {},
   "source": [
    "### Inspect the types, see if everything is in order"
   ]
  },
  {
   "cell_type": "code",
   "execution_count": 46,
   "metadata": {
    "collapsed": false
   },
   "outputs": [
    {
     "data": {
      "text/plain": [
       "FlightDate                 object\n",
       "DayOfWeek                   int64\n",
       "Carrier                    object\n",
       "TailNum                    object\n",
       "FlightNum                  object\n",
       "Origin                     object\n",
       "OriginCityName             object\n",
       "OriginStateName            object\n",
       "Dest                       object\n",
       "DestCityName               object\n",
       "DestStateName              object\n",
       "DepTime                   float64\n",
       "DepDelay                  float64\n",
       "AirTime                   float64\n",
       "Distance                  float64\n",
       "DepTimeStr                 object\n",
       "DepDateTime        datetime64[ns]\n",
       "dtype: object"
      ]
     },
     "execution_count": 46,
     "metadata": {},
     "output_type": "execute_result"
    }
   ],
   "source": [
    "df.dtypes"
   ]
  },
  {
   "cell_type": "markdown",
   "metadata": {},
   "source": [
    "### Transform the FlightNum column into a column of strings\n",
    "\n",
    "Because filght numbers are actually names, not numbers: we won't do arithmetic on them."
   ]
  },
  {
   "cell_type": "code",
   "execution_count": null,
   "metadata": {
    "collapsed": false
   },
   "outputs": [],
   "source": []
  },
  {
   "cell_type": "markdown",
   "metadata": {},
   "source": [
    "## Examining the data"
   ]
  },
  {
   "cell_type": "markdown",
   "metadata": {},
   "source": [
    "Finally clean! Let's start to do some preliminary work on the data."
   ]
  },
  {
   "cell_type": "markdown",
   "metadata": {},
   "source": [
    "### Find the biggest delays. \n",
    "\n",
    "How would you find the 5 maximum delays?"
   ]
  },
  {
   "cell_type": "code",
   "execution_count": 47,
   "metadata": {
    "collapsed": false
   },
   "outputs": [
    {
     "data": {
      "text/html": [
       "<div>\n",
       "<table border=\"1\" class=\"dataframe\">\n",
       "  <thead>\n",
       "    <tr style=\"text-align: right;\">\n",
       "      <th></th>\n",
       "      <th>FlightDate</th>\n",
       "      <th>DayOfWeek</th>\n",
       "      <th>Carrier</th>\n",
       "      <th>TailNum</th>\n",
       "      <th>FlightNum</th>\n",
       "      <th>Origin</th>\n",
       "      <th>OriginCityName</th>\n",
       "      <th>OriginStateName</th>\n",
       "      <th>Dest</th>\n",
       "      <th>DestCityName</th>\n",
       "      <th>DestStateName</th>\n",
       "      <th>DepTime</th>\n",
       "      <th>DepDelay</th>\n",
       "      <th>AirTime</th>\n",
       "      <th>Distance</th>\n",
       "      <th>DepTimeStr</th>\n",
       "      <th>DepDateTime</th>\n",
       "    </tr>\n",
       "  </thead>\n",
       "  <tbody>\n",
       "    <tr>\n",
       "      <th>21523</th>\n",
       "      <td>2015-01-23</td>\n",
       "      <td>5</td>\n",
       "      <td>AA</td>\n",
       "      <td>N598AA</td>\n",
       "      <td>1322</td>\n",
       "      <td>BHM</td>\n",
       "      <td>Birmingham, AL</td>\n",
       "      <td>Alabama</td>\n",
       "      <td>DFW</td>\n",
       "      <td>Dallas/Fort Worth, TX</td>\n",
       "      <td>Texas</td>\n",
       "      <td>1608.0</td>\n",
       "      <td>1988.0</td>\n",
       "      <td>99.0</td>\n",
       "      <td>597.0</td>\n",
       "      <td>16:08</td>\n",
       "      <td>2015-01-23 16:08:00</td>\n",
       "    </tr>\n",
       "    <tr>\n",
       "      <th>11524</th>\n",
       "      <td>2015-01-18</td>\n",
       "      <td>7</td>\n",
       "      <td>AA</td>\n",
       "      <td>N5DGAA</td>\n",
       "      <td>224</td>\n",
       "      <td>LAS</td>\n",
       "      <td>Las Vegas, NV</td>\n",
       "      <td>Nevada</td>\n",
       "      <td>LAX</td>\n",
       "      <td>Los Angeles, CA</td>\n",
       "      <td>California</td>\n",
       "      <td>1414.0</td>\n",
       "      <td>1604.0</td>\n",
       "      <td>42.0</td>\n",
       "      <td>236.0</td>\n",
       "      <td>14:14</td>\n",
       "      <td>2015-01-18 14:14:00</td>\n",
       "    </tr>\n",
       "    <tr>\n",
       "      <th>18198</th>\n",
       "      <td>2015-01-27</td>\n",
       "      <td>2</td>\n",
       "      <td>AA</td>\n",
       "      <td>N586AA</td>\n",
       "      <td>1242</td>\n",
       "      <td>FAT</td>\n",
       "      <td>Fresno, CA</td>\n",
       "      <td>California</td>\n",
       "      <td>DFW</td>\n",
       "      <td>Dallas/Fort Worth, TX</td>\n",
       "      <td>Texas</td>\n",
       "      <td>850.0</td>\n",
       "      <td>1551.0</td>\n",
       "      <td>155.0</td>\n",
       "      <td>1313.0</td>\n",
       "      <td>08:50</td>\n",
       "      <td>2015-01-27 08:50:00</td>\n",
       "    </tr>\n",
       "    <tr>\n",
       "      <th>108152</th>\n",
       "      <td>2015-01-21</td>\n",
       "      <td>3</td>\n",
       "      <td>AA</td>\n",
       "      <td>N4XNAA</td>\n",
       "      <td>2385</td>\n",
       "      <td>JAX</td>\n",
       "      <td>Jacksonville, FL</td>\n",
       "      <td>Florida</td>\n",
       "      <td>DFW</td>\n",
       "      <td>Dallas/Fort Worth, TX</td>\n",
       "      <td>Texas</td>\n",
       "      <td>1240.0</td>\n",
       "      <td>1457.0</td>\n",
       "      <td>144.0</td>\n",
       "      <td>918.0</td>\n",
       "      <td>12:40</td>\n",
       "      <td>2015-01-21 12:40:00</td>\n",
       "    </tr>\n",
       "    <tr>\n",
       "      <th>26001</th>\n",
       "      <td>2015-01-11</td>\n",
       "      <td>7</td>\n",
       "      <td>AA</td>\n",
       "      <td>N469AA</td>\n",
       "      <td>1595</td>\n",
       "      <td>AUS</td>\n",
       "      <td>Austin, TX</td>\n",
       "      <td>Texas</td>\n",
       "      <td>DFW</td>\n",
       "      <td>Dallas/Fort Worth, TX</td>\n",
       "      <td>Texas</td>\n",
       "      <td>700.0</td>\n",
       "      <td>1450.0</td>\n",
       "      <td>37.0</td>\n",
       "      <td>190.0</td>\n",
       "      <td>07:00</td>\n",
       "      <td>2015-01-11 07:00:00</td>\n",
       "    </tr>\n",
       "  </tbody>\n",
       "</table>\n",
       "</div>"
      ],
      "text/plain": [
       "        FlightDate  DayOfWeek Carrier TailNum FlightNum Origin  \\\n",
       "21523   2015-01-23          5      AA  N598AA      1322    BHM   \n",
       "11524   2015-01-18          7      AA  N5DGAA       224    LAS   \n",
       "18198   2015-01-27          2      AA  N586AA      1242    FAT   \n",
       "108152  2015-01-21          3      AA  N4XNAA      2385    JAX   \n",
       "26001   2015-01-11          7      AA  N469AA      1595    AUS   \n",
       "\n",
       "          OriginCityName OriginStateName Dest           DestCityName  \\\n",
       "21523     Birmingham, AL         Alabama  DFW  Dallas/Fort Worth, TX   \n",
       "11524      Las Vegas, NV          Nevada  LAX        Los Angeles, CA   \n",
       "18198         Fresno, CA      California  DFW  Dallas/Fort Worth, TX   \n",
       "108152  Jacksonville, FL         Florida  DFW  Dallas/Fort Worth, TX   \n",
       "26001         Austin, TX           Texas  DFW  Dallas/Fort Worth, TX   \n",
       "\n",
       "       DestStateName  DepTime  DepDelay  AirTime  Distance DepTimeStr  \\\n",
       "21523          Texas   1608.0    1988.0     99.0     597.0      16:08   \n",
       "11524     California   1414.0    1604.0     42.0     236.0      14:14   \n",
       "18198          Texas    850.0    1551.0    155.0    1313.0      08:50   \n",
       "108152         Texas   1240.0    1457.0    144.0     918.0      12:40   \n",
       "26001          Texas    700.0    1450.0     37.0     190.0      07:00   \n",
       "\n",
       "               DepDateTime  \n",
       "21523  2015-01-23 16:08:00  \n",
       "11524  2015-01-18 14:14:00  \n",
       "18198  2015-01-27 08:50:00  \n",
       "108152 2015-01-21 12:40:00  \n",
       "26001  2015-01-11 07:00:00  "
      ]
     },
     "execution_count": 47,
     "metadata": {},
     "output_type": "execute_result"
    }
   ],
   "source": [
    "df.sort_values(by = 'DepDelay', ascending = False).head(5)"
   ]
  },
  {
   "cell_type": "markdown",
   "metadata": {},
   "source": [
    "### What was the average delay for this month? Standard deviation and typical value?"
   ]
  },
  {
   "cell_type": "code",
   "execution_count": 48,
   "metadata": {
    "collapsed": false
   },
   "outputs": [
    {
     "data": {
      "text/plain": [
       "count    458311.000000\n",
       "mean          9.759471\n",
       "std          36.636491\n",
       "min         -48.000000\n",
       "25%          -5.000000\n",
       "50%          -2.000000\n",
       "75%           9.000000\n",
       "max        1988.000000\n",
       "Name: DepDelay, dtype: float64"
      ]
     },
     "execution_count": 48,
     "metadata": {},
     "output_type": "execute_result"
    }
   ],
   "source": [
    "df['DepDelay'].describe()"
   ]
  },
  {
   "cell_type": "markdown",
   "metadata": {},
   "source": [
    "Also: a quick look at the correlation between the numerical variables is extremely easy with pandas:"
   ]
  },
  {
   "cell_type": "code",
   "execution_count": 49,
   "metadata": {
    "collapsed": false
   },
   "outputs": [
    {
     "data": {
      "text/html": [
       "<div>\n",
       "<table border=\"1\" class=\"dataframe\">\n",
       "  <thead>\n",
       "    <tr style=\"text-align: right;\">\n",
       "      <th></th>\n",
       "      <th>DayOfWeek</th>\n",
       "      <th>DepTime</th>\n",
       "      <th>DepDelay</th>\n",
       "      <th>AirTime</th>\n",
       "      <th>Distance</th>\n",
       "    </tr>\n",
       "  </thead>\n",
       "  <tbody>\n",
       "    <tr>\n",
       "      <th>DayOfWeek</th>\n",
       "      <td>1.000000</td>\n",
       "      <td>0.014525</td>\n",
       "      <td>0.017254</td>\n",
       "      <td>0.027161</td>\n",
       "      <td>0.021530</td>\n",
       "    </tr>\n",
       "    <tr>\n",
       "      <th>DepTime</th>\n",
       "      <td>0.014525</td>\n",
       "      <td>1.000000</td>\n",
       "      <td>0.177239</td>\n",
       "      <td>-0.027934</td>\n",
       "      <td>-0.019962</td>\n",
       "    </tr>\n",
       "    <tr>\n",
       "      <th>DepDelay</th>\n",
       "      <td>0.017254</td>\n",
       "      <td>0.177239</td>\n",
       "      <td>1.000000</td>\n",
       "      <td>0.013282</td>\n",
       "      <td>0.013871</td>\n",
       "    </tr>\n",
       "    <tr>\n",
       "      <th>AirTime</th>\n",
       "      <td>0.027161</td>\n",
       "      <td>-0.027934</td>\n",
       "      <td>0.013282</td>\n",
       "      <td>1.000000</td>\n",
       "      <td>0.981376</td>\n",
       "    </tr>\n",
       "    <tr>\n",
       "      <th>Distance</th>\n",
       "      <td>0.021530</td>\n",
       "      <td>-0.019962</td>\n",
       "      <td>0.013871</td>\n",
       "      <td>0.981376</td>\n",
       "      <td>1.000000</td>\n",
       "    </tr>\n",
       "  </tbody>\n",
       "</table>\n",
       "</div>"
      ],
      "text/plain": [
       "           DayOfWeek   DepTime  DepDelay   AirTime  Distance\n",
       "DayOfWeek   1.000000  0.014525  0.017254  0.027161  0.021530\n",
       "DepTime     0.014525  1.000000  0.177239 -0.027934 -0.019962\n",
       "DepDelay    0.017254  0.177239  1.000000  0.013282  0.013871\n",
       "AirTime     0.027161 -0.027934  0.013282  1.000000  0.981376\n",
       "Distance    0.021530 -0.019962  0.013871  0.981376  1.000000"
      ]
     },
     "execution_count": 49,
     "metadata": {},
     "output_type": "execute_result"
    }
   ],
   "source": [
    "df.corr()"
   ]
  },
  {
   "cell_type": "markdown",
   "metadata": {},
   "source": [
    "### A little taste of groupby\n",
    "\n",
    "Very often, we will want to split our data according to a variable, then compute some statistics on the different groups. We will see this in depth next week, but I want to give you a little taste."
   ]
  },
  {
   "cell_type": "markdown",
   "metadata": {},
   "source": [
    "What is the plane that has the highest average delay? We'll first group by tail number (the *license plate* of a plane) and then calculate the relevant statistic for each group (group of *departures*)"
   ]
  },
  {
   "cell_type": "code",
   "execution_count": 50,
   "metadata": {
    "collapsed": false
   },
   "outputs": [
    {
     "data": {
      "text/plain": [
       "TailNum\n",
       "N79011    232.000000\n",
       "N228UA    217.500000\n",
       "N707DN    204.000000\n",
       "N651UA    167.000000\n",
       "N776UA    159.000000\n",
       "N660UA    150.500000\n",
       "N116UA    129.000000\n",
       "N780UA    119.000000\n",
       "N398AA    118.733333\n",
       "N76065    117.416667\n",
       "Name: DepDelay, dtype: float64"
      ]
     },
     "execution_count": 50,
     "metadata": {},
     "output_type": "execute_result"
    }
   ],
   "source": [
    "tailnum_group = df.groupby('TailNum')['DepDelay'].mean().sort_values(ascending = False).head(10)\n",
    "tailnum_group\n"
   ]
  },
  {
   "cell_type": "markdown",
   "metadata": {},
   "source": [
    "Oh, but those numbers smell like these planes had only a few, very delayed, departures! how can we count the number of departures *and* calculate the average delay at the same time?"
   ]
  },
  {
   "cell_type": "code",
   "execution_count": 51,
   "metadata": {
    "collapsed": false,
    "scrolled": false
   },
   "outputs": [],
   "source": [
    "delays = df.groupby('TailNum')['DepDelay'].agg(['mean', 'count']).sort_values(by = 'mean', ascending = False)"
   ]
  },
  {
   "cell_type": "code",
   "execution_count": 52,
   "metadata": {
    "collapsed": false
   },
   "outputs": [],
   "source": [
    "highly_delayed = delays[delays['count'] >= 15].head(100)"
   ]
  },
  {
   "cell_type": "code",
   "execution_count": 53,
   "metadata": {
    "collapsed": false
   },
   "outputs": [
    {
     "data": {
      "text/plain": [
       "array(['AA', 'AS', 'B6', 'DL', 'WN', 'UA', 'NK', 'MQ', 'OO', 'EV', 'F9'], dtype=object)"
      ]
     },
     "execution_count": 53,
     "metadata": {},
     "output_type": "execute_result"
    }
   ],
   "source": [
    "df.join(highly_delayed, on = 'TailNum', how = 'inner')['Carrier'].unique()\n",
    "\n"
   ]
  },
  {
   "cell_type": "code",
   "execution_count": null,
   "metadata": {
    "collapsed": true
   },
   "outputs": [],
   "source": []
  },
  {
   "cell_type": "markdown",
   "metadata": {},
   "source": [
    "## Matplotlib"
   ]
  },
  {
   "cell_type": "code",
   "execution_count": 54,
   "metadata": {
    "collapsed": false
   },
   "outputs": [],
   "source": [
    "import numpy as np\n",
    "import matplotlib.pyplot as plt\n",
    "%matplotlib inline"
   ]
  },
  {
   "cell_type": "code",
   "execution_count": 55,
   "metadata": {
    "collapsed": false,
    "scrolled": true
   },
   "outputs": [
    {
     "data": {
      "text/plain": [
       "[<matplotlib.lines.Line2D at 0x7fad017e10d0>]"
      ]
     },
     "execution_count": 55,
     "metadata": {},
     "output_type": "execute_result"
    },
    {
     "data": {
      "image/png": "[encoded data removed]",
      "text/plain": [
       "<matplotlib.figure.Figure at 0x7fad47eb3e90>"
      ]
     },
     "metadata": {},
     "output_type": "display_data"
    }
   ],
   "source": [
    "xs = np.linspace(0,10,100)\n",
    "ys = np.sin(xs)\n",
    "\n",
    "plt.plot(xs, ys)"
   ]
  },
  {
   "cell_type": "code",
   "execution_count": 56,
   "metadata": {
    "collapsed": false
   },
   "outputs": [
    {
     "data": {
      "text/plain": [
       "<matplotlib.collections.PathCollection at 0x7facfefaab10>"
      ]
     },
     "execution_count": 56,
     "metadata": {},
     "output_type": "execute_result"
    },
    {
     "data": {
      "image/png": "[encoded data removed]",
      "text/plain": [
       "<matplotlib.figure.Figure at 0x7facff30b390>"
      ]
     },
     "metadata": {},
     "output_type": "display_data"
    }
   ],
   "source": [
    "plt.scatter(xs, ys)"
   ]
  },
  {
   "cell_type": "code",
   "execution_count": 57,
   "metadata": {
    "collapsed": false
   },
   "outputs": [
    {
     "data": {
      "text/plain": [
       "<matplotlib.text.Text at 0x7facfef84150>"
      ]
     },
     "execution_count": 57,
     "metadata": {},
     "output_type": "execute_result"
    },
    {
     "data": {
      "image/png": "[encoded data removed]",
      "text/plain": [
       "<matplotlib.figure.Figure at 0x7facff2f35d0>"
      ]
     },
     "metadata": {},
     "output_type": "display_data"
    }
   ],
   "source": [
    "heights = [1.3, 2.5, 6.7, 1, 8]\n",
    "\n",
    "plt.bar(range(5),heights)\n",
    "\n",
    "plt.xlabel('barras')\n",
    "\n"
   ]
  },
  {
   "cell_type": "code",
   "execution_count": 58,
   "metadata": {
    "collapsed": false
   },
   "outputs": [
    {
     "data": {
      "image/png": "[encoded data removed]",
      "text/plain": [
       "<matplotlib.figure.Figure at 0x7facfefd4290>"
      ]
     },
     "metadata": {},
     "output_type": "display_data"
    }
   ],
   "source": [
    "plt.subplot(221) #2 filas, 2 columnas, primer gráfico.\n",
    "plt.bar(range(5),heights)\n",
    "plt.subplot(222)\n",
    "plt.scatter(range(9), range(9))\n",
    "plt.subplot(224)\n",
    "plt.plot(xs, ys, 'r-.')\n",
    "plt.show()"
   ]
  },
  {
   "cell_type": "code",
   "execution_count": 59,
   "metadata": {
    "collapsed": false,
    "scrolled": true
   },
   "outputs": [
    {
     "data": {
      "text/plain": [
       "<matplotlib.collections.PathCollection at 0x7facfedfa790>"
      ]
     },
     "execution_count": 59,
     "metadata": {},
     "output_type": "execute_result"
    },
    {
     "data": {
      "image/png": "[encoded data removed]",
      "text/plain": [
       "<matplotlib.figure.Figure at 0x7facff30b510>"
      ]
     },
     "metadata": {},
     "output_type": "display_data"
    }
   ],
   "source": [
    "f, axarray = plt.subplots(2,3)\n",
    "axarray[1][1].scatter(range(9), range(9))"
   ]
  },
  {
   "cell_type": "code",
   "execution_count": null,
   "metadata": {
    "collapsed": true
   },
   "outputs": [],
   "source": []
  },
  {
   "cell_type": "code",
   "execution_count": 60,
   "metadata": {
    "collapsed": false
   },
   "outputs": [
    {
     "data": {
      "text/plain": [
       "(-100, 500)"
      ]
     },
     "execution_count": 60,
     "metadata": {},
     "output_type": "execute_result"
    },
    {
     "data": {
      "image/png": "[encoded data removed]",
      "text/plain": [
       "<matplotlib.figure.Figure at 0x7facfefcb8d0>"
      ]
     },
     "metadata": {},
     "output_type": "display_data"
    }
   ],
   "source": [
    "ax = df['DepDelay'].hist(bins = 500)\n",
    "\n",
    "ax.set_xlim(-100, 500)"
   ]
  },
  {
   "cell_type": "code",
   "execution_count": null,
   "metadata": {
    "collapsed": true
   },
   "outputs": [],
   "source": []
  },
  {
   "cell_type": "markdown",
   "metadata": {},
   "source": [
    "Awesome! now, let's look at the average delay of the planes with some departures (let's say, at least 15)"
   ]
  },
  {
   "cell_type": "markdown",
   "metadata": {},
   "source": [
    "## Plotting\n",
    "\n",
    "There are several ways in which we could go about this. This is where creativity starts. We'll do a couple very simple plots."
   ]
  },
  {
   "cell_type": "markdown",
   "metadata": {},
   "source": [
    "For example, do the delays have a relationship with the number of departures a plane does?"
   ]
  },
  {
   "cell_type": "code",
   "execution_count": 61,
   "metadata": {
    "collapsed": false
   },
   "outputs": [
    {
     "data": {
      "text/plain": [
       "(0, 200)"
      ]
     },
     "execution_count": 61,
     "metadata": {},
     "output_type": "execute_result"
    },
    {
     "data": {
      "image/png": "[encoded data removed]",
      "text/plain": [
       "<matplotlib.figure.Figure at 0x7facfdfa7a10>"
      ]
     },
     "metadata": {},
     "output_type": "display_data"
    }
   ],
   "source": [
    "# Do a scatter plot with matplotlib. Check the documentation\n",
    "\n",
    "ax = delays.plot.scatter('mean', 'count', alpha = .1)\n",
    "ax.set_xlim(-50,100)\n",
    "ax.set_ylim(0,200)"
   ]
  },
  {
   "cell_type": "code",
   "execution_count": 62,
   "metadata": {
    "collapsed": false
   },
   "outputs": [
    {
     "data": {
      "text/plain": [
       "(0, 200)"
      ]
     },
     "execution_count": 62,
     "metadata": {},
     "output_type": "execute_result"
    },
    {
     "data": {
      "image/png": "[encoded data removed]",
      "text/plain": [
       "<matplotlib.figure.Figure at 0x7facfe880b90>"
      ]
     },
     "metadata": {},
     "output_type": "display_data"
    }
   ],
   "source": [
    "ax = delays.plot.hexbin('mean', 'count')\n",
    "ax.set_xlim(-50,100)\n",
    "ax.set_ylim(0,200)"
   ]
  },
  {
   "cell_type": "code",
   "execution_count": 70,
   "metadata": {
    "collapsed": false
   },
   "outputs": [
    {
     "data": {
      "text/plain": [
       "<matplotlib.text.Text at 0x7faceab1c450>"
      ]
     },
     "execution_count": 70,
     "metadata": {},
     "output_type": "execute_result"
    },
    {
     "data": {
      "image/png": "[encoded data removed]",
      "text/plain": [
       "<matplotlib.figure.Figure at 0x7facfc524110>"
      ]
     },
     "metadata": {},
     "output_type": "display_data"
    }
   ],
   "source": [
    "import seaborn as sns\n",
    "ax = df['DepDelay'].hist(bins = 500)\n",
    "\n",
    "ax.set_xlim(-100, 500)\n",
    "plt.yscale('log')\n",
    "#plt.ylabel(r'$\\sum log(n^2)$')"
   ]
  },
  {
   "cell_type": "markdown",
   "metadata": {
    "collapsed": true
   },
   "source": [
    "# Latex\n",
    "\n",
    "$asl = x$"
   ]
  },
  {
   "cell_type": "markdown",
   "metadata": {},
   "source": [
    " Another question: how do the delays stack over the course of the day?"
   ]
  },
  {
   "cell_type": "code",
   "execution_count": 64,
   "metadata": {
    "collapsed": true
   },
   "outputs": [],
   "source": [
    "# Pro: Try to do a boxplot with matplotlib."
   ]
  },
  {
   "cell_type": "code",
   "execution_count": 71,
   "metadata": {
    "collapsed": false
   },
   "outputs": [],
   "source": [
    "#Los boxplots nos permiten comparar distribuciones"
   ]
  },
  {
   "cell_type": "code",
   "execution_count": null,
   "metadata": {
    "collapsed": true
   },
   "outputs": [],
   "source": [
    "#Usar los colores sólo para categorias. a los humanos no se nos da bien distinguir colores. \n",
    "#En orden de mejor skill, tamaños, posiciones..."
   ]
  },
  {
   "cell_type": "code",
   "execution_count": 72,
   "metadata": {
    "collapsed": false
   },
   "outputs": [
    {
     "data": {
      "text/html": [
       "<div>\n",
       "<table border=\"1\" class=\"dataframe\">\n",
       "  <thead>\n",
       "    <tr style=\"text-align: right;\">\n",
       "      <th></th>\n",
       "      <th>FlightDate</th>\n",
       "      <th>DayOfWeek</th>\n",
       "      <th>Carrier</th>\n",
       "      <th>TailNum</th>\n",
       "      <th>FlightNum</th>\n",
       "      <th>Origin</th>\n",
       "      <th>OriginCityName</th>\n",
       "      <th>OriginStateName</th>\n",
       "      <th>Dest</th>\n",
       "      <th>DestCityName</th>\n",
       "      <th>DestStateName</th>\n",
       "      <th>DepTime</th>\n",
       "      <th>DepDelay</th>\n",
       "      <th>AirTime</th>\n",
       "      <th>Distance</th>\n",
       "      <th>DepTimeStr</th>\n",
       "      <th>DepDateTime</th>\n",
       "    </tr>\n",
       "  </thead>\n",
       "  <tbody>\n",
       "    <tr>\n",
       "      <th>274701</th>\n",
       "      <td>2015-01-11</td>\n",
       "      <td>7</td>\n",
       "      <td>OO</td>\n",
       "      <td>N916SW</td>\n",
       "      <td>5578</td>\n",
       "      <td>SJC</td>\n",
       "      <td>San Jose, CA</td>\n",
       "      <td>California</td>\n",
       "      <td>DEN</td>\n",
       "      <td>Denver, CO</td>\n",
       "      <td>Colorado</td>\n",
       "      <td>943.0</td>\n",
       "      <td>143.0</td>\n",
       "      <td>132.0</td>\n",
       "      <td>948.0</td>\n",
       "      <td>09:43</td>\n",
       "      <td>2015-01-11 09:43:00</td>\n",
       "    </tr>\n",
       "    <tr>\n",
       "      <th>116185</th>\n",
       "      <td>2015-01-22</td>\n",
       "      <td>4</td>\n",
       "      <td>DL</td>\n",
       "      <td>N821DN</td>\n",
       "      <td>2124</td>\n",
       "      <td>MSY</td>\n",
       "      <td>New Orleans, LA</td>\n",
       "      <td>Louisiana</td>\n",
       "      <td>ATL</td>\n",
       "      <td>Atlanta, GA</td>\n",
       "      <td>Georgia</td>\n",
       "      <td>710.0</td>\n",
       "      <td>-5.0</td>\n",
       "      <td>59.0</td>\n",
       "      <td>425.0</td>\n",
       "      <td>07:10</td>\n",
       "      <td>2015-01-22 07:10:00</td>\n",
       "    </tr>\n",
       "    <tr>\n",
       "      <th>258007</th>\n",
       "      <td>2015-01-13</td>\n",
       "      <td>2</td>\n",
       "      <td>OO</td>\n",
       "      <td>N630SK</td>\n",
       "      <td>4453</td>\n",
       "      <td>LAX</td>\n",
       "      <td>Los Angeles, CA</td>\n",
       "      <td>California</td>\n",
       "      <td>OAK</td>\n",
       "      <td>Oakland, CA</td>\n",
       "      <td>California</td>\n",
       "      <td>1553.0</td>\n",
       "      <td>8.0</td>\n",
       "      <td>57.0</td>\n",
       "      <td>337.0</td>\n",
       "      <td>15:53</td>\n",
       "      <td>2015-01-13 15:53:00</td>\n",
       "    </tr>\n",
       "  </tbody>\n",
       "</table>\n",
       "</div>"
      ],
      "text/plain": [
       "        FlightDate  DayOfWeek Carrier TailNum FlightNum Origin  \\\n",
       "274701  2015-01-11          7      OO  N916SW      5578    SJC   \n",
       "116185  2015-01-22          4      DL  N821DN      2124    MSY   \n",
       "258007  2015-01-13          2      OO  N630SK      4453    LAX   \n",
       "\n",
       "         OriginCityName OriginStateName Dest DestCityName DestStateName  \\\n",
       "274701     San Jose, CA      California  DEN   Denver, CO      Colorado   \n",
       "116185  New Orleans, LA       Louisiana  ATL  Atlanta, GA       Georgia   \n",
       "258007  Los Angeles, CA      California  OAK  Oakland, CA    California   \n",
       "\n",
       "        DepTime  DepDelay  AirTime  Distance DepTimeStr         DepDateTime  \n",
       "274701    943.0     143.0    132.0     948.0      09:43 2015-01-11 09:43:00  \n",
       "116185    710.0      -5.0     59.0     425.0      07:10 2015-01-22 07:10:00  \n",
       "258007   1553.0       8.0     57.0     337.0      15:53 2015-01-13 15:53:00  "
      ]
     },
     "execution_count": 72,
     "metadata": {},
     "output_type": "execute_result"
    }
   ],
   "source": [
    "df.sample(3)"
   ]
  },
  {
   "cell_type": "code",
   "execution_count": 74,
   "metadata": {
    "collapsed": false
   },
   "outputs": [],
   "source": [
    "datetime = pd.to_datetime('2015-01-11 09:43:00')"
   ]
  },
  {
   "cell_type": "code",
   "execution_count": 76,
   "metadata": {
    "collapsed": false
   },
   "outputs": [
    {
     "data": {
      "text/plain": [
       "9"
      ]
     },
     "execution_count": 76,
     "metadata": {},
     "output_type": "execute_result"
    }
   ],
   "source": [
    "datetime.hour"
   ]
  },
  {
   "cell_type": "code",
   "execution_count": 81,
   "metadata": {
    "collapsed": false
   },
   "outputs": [],
   "source": [
    "by_hour = df.groupby(lambda ix: df.iloc[ix]['DepDateTime'].hour)"
   ]
  },
  {
   "cell_type": "code",
   "execution_count": 82,
   "metadata": {
    "collapsed": true
   },
   "outputs": [],
   "source": [
    "delays, hours = [], []\n",
    "for hour, hourly_df in by_hour:\n",
    "    delays.append(hourly_df['DepDelay'])\n",
    "    hours.append(hour)    "
   ]
  },
  {
   "cell_type": "code",
   "execution_count": 85,
   "metadata": {
    "collapsed": false,
    "scrolled": true
   },
   "outputs": [
    {
     "data": {
      "text/plain": [
       "345     69.0\n",
       "816     37.0\n",
       "1001    -6.0\n",
       "Name: DepDelay, dtype: float64"
      ]
     },
     "execution_count": 85,
     "metadata": {},
     "output_type": "execute_result"
    }
   ],
   "source": [
    "delays[0].head(3)"
   ]
  },
  {
   "cell_type": "code",
   "execution_count": 86,
   "metadata": {
    "collapsed": false
   },
   "outputs": [
    {
     "data": {
      "text/plain": [
       "FlightDate                  2015-01-23\n",
       "DayOfWeek                            5\n",
       "Carrier                             AA\n",
       "TailNum                         N3DCAA\n",
       "FlightNum                          115\n",
       "Origin                             LAX\n",
       "OriginCityName         Los Angeles, CA\n",
       "OriginStateName             California\n",
       "Dest                               MIA\n",
       "DestCityName                 Miami, FL\n",
       "DestStateName                  Florida\n",
       "DepTime                             59\n",
       "DepDelay                            -6\n",
       "AirTime                            265\n",
       "Distance                          2342\n",
       "DepTimeStr                       00:59\n",
       "DepDateTime        2015-01-23 00:59:00\n",
       "Name: 1001, dtype: object"
      ]
     },
     "execution_count": 86,
     "metadata": {},
     "output_type": "execute_result"
    }
   ],
   "source": [
    "df.ix[1001]"
   ]
  },
  {
   "cell_type": "code",
   "execution_count": 95,
   "metadata": {
    "collapsed": false
   },
   "outputs": [
    {
     "data": {
      "text/plain": [
       "(-50, 200)"
      ]
     },
     "execution_count": 95,
     "metadata": {},
     "output_type": "execute_result"
    },
    {
     "data": {
      "image/png": "[encoded data removed]",
      "text/plain": [
       "<matplotlib.figure.Figure at 0x7face61667d0>"
      ]
     },
     "metadata": {},
     "output_type": "display_data"
    }
   ],
   "source": [
    "labels = map(lambda f: '%02d' % f, hours)\n",
    "\n",
    "_ = plt.boxplot(delays, labels = labels, positions = hours)\n",
    "\n",
    "plt.ylim(-50, 200)"
   ]
  },
  {
   "cell_type": "markdown",
   "metadata": {},
   "source": [
    "Hints for reading large files: \n",
    "* selecting columns:\n",
    "    `pd.read_csv(usecols=[list_of_interesting_column_names])`\n",
    "* bcolz\n",
    "* specify column types"
   ]
  }
 ],
 "metadata": {
  "kernelspec": {
   "display_name": "Python 2",
   "language": "python",
   "name": "python2"
  },
  "language_info": {
   "codemirror_mode": {
    "name": "ipython",
    "version": 2
   },
   "file_extension": ".py",
   "mimetype": "text/x-python",
   "name": "python",
   "nbconvert_exporter": "python",
   "pygments_lexer": "ipython2",
   "version": "2.7.11"
  }
 },
 "nbformat": 4,
 "nbformat_minor": 0
}
